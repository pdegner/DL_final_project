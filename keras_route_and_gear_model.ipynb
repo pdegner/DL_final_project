{
 "cells": [
  {
   "cell_type": "markdown",
   "metadata": {},
   "source": [
    "# Create a model using DistilBERT tuned on route and gear data"
   ]
  },
  {
   "cell_type": "code",
   "execution_count": 22,
   "metadata": {},
   "outputs": [],
   "source": [
    "from transformers import pipeline\n",
    "from transformers import AutoTokenizer, TFAutoModelForSequenceClassification\n",
    "from transformers import DistilBertTokenizer, DistilBertModel, DistilBertConfig, TFAutoModelWithLMHead, TFAutoModel, AutoModel\n",
    "\n",
    "from sklearn.model_selection import train_test_split\n",
    "\n",
    "import tensorflow as tf\n",
    "\n",
    "import pandas as pd\n",
    "import numpy as np\n",
    "\n",
    "classifier = pipeline('sentiment-analysis')"
   ]
  },
  {
   "cell_type": "code",
   "execution_count": 23,
   "metadata": {},
   "outputs": [],
   "source": [
    "import random\n",
    "random.seed(42)"
   ]
  },
  {
   "cell_type": "code",
   "execution_count": 24,
   "metadata": {},
   "outputs": [],
   "source": [
    "save_directory = \"models/trailspace_and_route_model\""
   ]
  },
  {
   "cell_type": "code",
   "execution_count": 25,
   "metadata": {},
   "outputs": [
    {
     "name": "stderr",
     "output_type": "stream",
     "text": [
      "All model checkpoint weights were used when initializing TFDistilBertModel.\n",
      "\n",
      "All the weights of TFDistilBertModel were initialized from the model checkpoint at models/trailspace_and_route_model.\n",
      "If your task is similar to the task the model of the ckeckpoint was trained on, you can already use TFDistilBertModel for predictions without further training.\n"
     ]
    }
   ],
   "source": [
    "config = DistilBertConfig(dropout=0.2, attention_dropout=0.2)\n",
    "config.output_hidden_states = False\n",
    "transformer_model = TFAutoModel.from_pretrained(save_directory, from_pt=False, config = config)\n",
    "\n",
    "input_ids_in = tf.keras.layers.Input(shape=(128,), name='input_token', dtype='int32')\n",
    "input_masks_in = tf.keras.layers.Input(shape=(128,), name='masked_token', dtype='int32') \n",
    "\n",
    "embedding_layer = transformer_model(input_ids_in, attention_mask=input_masks_in)[0]\n",
    "X = tf.keras.layers.Bidirectional(tf.keras.layers.LSTM(50, return_sequences=True, dropout=0.1, recurrent_dropout=0.1))(embedding_layer)\n",
    "X = tf.keras.layers.GlobalMaxPool1D()(X)\n",
    "X = tf.keras.layers.Dense(50, activation='relu')(X)\n",
    "X = tf.keras.layers.Dropout(0.2)(X)\n",
    "X = tf.keras.layers.Dense(3, activation='sigmoid')(X)\n",
    "tf.keras.layers.Softmax(axis=-1)\n",
    "model = tf.keras.Model(inputs=[input_ids_in, input_masks_in], outputs = X)\n",
    "\n",
    "for layer in model.layers[:3]:\n",
    "    layer.trainable = False\n",
    "    \n",
    "model.compile(optimizer=\"Adam\", loss=tf.keras.losses.CategoricalCrossentropy(), metrics=[\"acc\"])"
   ]
  },
  {
   "cell_type": "code",
   "execution_count": 26,
   "metadata": {},
   "outputs": [],
   "source": [
    "df = pd.read_csv('data/labeled_forum_test.csv')\n",
    "X_train, X_test, y_train, y_test = train_test_split(df[\"text\"], df[\"sentiment\"], test_size=0.20, random_state=42)"
   ]
  },
  {
   "cell_type": "code",
   "execution_count": 27,
   "metadata": {},
   "outputs": [],
   "source": [
    "# Create X values\n",
    "tokenizer = AutoTokenizer.from_pretrained(save_directory)\n",
    "X_train = tokenizer(\n",
    "     list(X_train),\n",
    "     padding=True,\n",
    "     truncation=True,\n",
    "     return_tensors=\"tf\",\n",
    "     max_length = 128\n",
    " )\n",
    "\n",
    "X_test = tokenizer(\n",
    "     list(X_test),\n",
    "     padding=True,\n",
    "     truncation=True,\n",
    "     return_tensors=\"tf\",\n",
    "     max_length = 128\n",
    " )"
   ]
  },
  {
   "cell_type": "code",
   "execution_count": 28,
   "metadata": {},
   "outputs": [],
   "source": [
    "# Create Y values\n",
    "y_train = pd.get_dummies(y_train)\n",
    "y_test = pd.get_dummies(y_test)"
   ]
  },
  {
   "cell_type": "code",
   "execution_count": 29,
   "metadata": {
    "scrolled": true
   },
   "outputs": [
    {
     "name": "stdout",
     "output_type": "stream",
     "text": [
      "Train on 2591 samples, validate on 648 samples\n",
      "Epoch 1/30\n",
      "2591/2591 [==============================] - 150s 58ms/sample - loss: 0.7342 - acc: 0.7449 - val_loss: 0.6786 - val_acc: 0.7500\n",
      "Epoch 2/30\n",
      "2591/2591 [==============================] - 152s 59ms/sample - loss: 0.6434 - acc: 0.7526 - val_loss: 0.6188 - val_acc: 0.7500\n",
      "Epoch 3/30\n",
      "2591/2591 [==============================] - 142s 55ms/sample - loss: 0.5973 - acc: 0.7596 - val_loss: 0.5790 - val_acc: 0.7793\n",
      "Epoch 4/30\n",
      "2591/2591 [==============================] - 143s 55ms/sample - loss: 0.5618 - acc: 0.7731 - val_loss: 0.5545 - val_acc: 0.7778\n",
      "Epoch 5/30\n",
      "2591/2591 [==============================] - 141s 55ms/sample - loss: 0.5422 - acc: 0.7816 - val_loss: 0.5581 - val_acc: 0.7809\n",
      "Epoch 6/30\n",
      "2591/2591 [==============================] - 141s 54ms/sample - loss: 0.5228 - acc: 0.7781 - val_loss: 0.5285 - val_acc: 0.7994\n",
      "Epoch 7/30\n",
      "2591/2591 [==============================] - 142s 55ms/sample - loss: 0.4862 - acc: 0.8043 - val_loss: 0.5211 - val_acc: 0.8025\n",
      "Epoch 8/30\n",
      "2591/2591 [==============================] - 143s 55ms/sample - loss: 0.4685 - acc: 0.8082 - val_loss: 0.5153 - val_acc: 0.8071\n",
      "Epoch 9/30\n",
      "2591/2591 [==============================] - 141s 54ms/sample - loss: 0.4556 - acc: 0.8163 - val_loss: 0.5013 - val_acc: 0.7948\n",
      "Epoch 10/30\n",
      "2591/2591 [==============================] - 143s 55ms/sample - loss: 0.4336 - acc: 0.8252 - val_loss: 0.5260 - val_acc: 0.7870\n",
      "Epoch 11/30\n",
      "2591/2591 [==============================] - 144s 56ms/sample - loss: 0.4231 - acc: 0.8283 - val_loss: 0.5286 - val_acc: 0.7963\n",
      "Epoch 12/30\n",
      "2591/2591 [==============================] - 141s 54ms/sample - loss: 0.4037 - acc: 0.8394 - val_loss: 0.5287 - val_acc: 0.7840\n",
      "Epoch 13/30\n",
      "2591/2591 [==============================] - 143s 55ms/sample - loss: 0.3935 - acc: 0.8456 - val_loss: 0.5136 - val_acc: 0.8040\n",
      "Epoch 14/30\n",
      "2591/2591 [==============================] - 141s 54ms/sample - loss: 0.3643 - acc: 0.8518 - val_loss: 0.5231 - val_acc: 0.8102\n",
      "Epoch 15/30\n",
      "2591/2591 [==============================] - 141s 54ms/sample - loss: 0.3365 - acc: 0.8603 - val_loss: 0.5464 - val_acc: 0.8086\n",
      "Epoch 16/30\n",
      "2591/2591 [==============================] - 139s 53ms/sample - loss: 0.3460 - acc: 0.8638 - val_loss: 0.5501 - val_acc: 0.8009\n",
      "Epoch 17/30\n",
      "2591/2591 [==============================] - 134s 52ms/sample - loss: 0.3177 - acc: 0.8784 - val_loss: 0.5365 - val_acc: 0.8040\n",
      "Epoch 18/30\n",
      "2591/2591 [==============================] - 139s 54ms/sample - loss: 0.2909 - acc: 0.8873 - val_loss: 0.5716 - val_acc: 0.7840\n",
      "Epoch 19/30\n",
      "2591/2591 [==============================] - 141s 54ms/sample - loss: 0.2691 - acc: 0.8931 - val_loss: 0.5876 - val_acc: 0.7886\n",
      "Epoch 20/30\n",
      "2591/2591 [==============================] - 141s 54ms/sample - loss: 0.2413 - acc: 0.9101 - val_loss: 0.5945 - val_acc: 0.7824\n",
      "Epoch 21/30\n",
      "2591/2591 [==============================] - 140s 54ms/sample - loss: 0.2447 - acc: 0.9058 - val_loss: 0.5717 - val_acc: 0.8117\n",
      "Epoch 22/30\n",
      "2591/2591 [==============================] - 142s 55ms/sample - loss: 0.2359 - acc: 0.9047 - val_loss: 0.6021 - val_acc: 0.7824\n",
      "Epoch 23/30\n",
      "2591/2591 [==============================] - 143s 55ms/sample - loss: 0.2106 - acc: 0.9224 - val_loss: 0.6264 - val_acc: 0.8040\n",
      "Epoch 24/30\n",
      "2591/2591 [==============================] - 141s 54ms/sample - loss: 0.1792 - acc: 0.9336 - val_loss: 0.6602 - val_acc: 0.7948\n",
      "Epoch 25/30\n",
      "2591/2591 [==============================] - 141s 54ms/sample - loss: 0.1744 - acc: 0.9382 - val_loss: 0.6951 - val_acc: 0.8056\n",
      "Epoch 26/30\n",
      "2591/2591 [==============================] - 135s 52ms/sample - loss: 0.1634 - acc: 0.9359 - val_loss: 0.6983 - val_acc: 0.7670\n",
      "Epoch 27/30\n",
      "2591/2591 [==============================] - 137s 53ms/sample - loss: 0.1560 - acc: 0.9440 - val_loss: 0.7280 - val_acc: 0.7855\n",
      "Epoch 28/30\n",
      "2591/2591 [==============================] - 143s 55ms/sample - loss: 0.1543 - acc: 0.9437 - val_loss: 0.6671 - val_acc: 0.8086\n",
      "Epoch 29/30\n",
      "2591/2591 [==============================] - 143s 55ms/sample - loss: 0.1288 - acc: 0.9525 - val_loss: 0.7215 - val_acc: 0.7994\n",
      "Epoch 30/30\n",
      "2591/2591 [==============================] - 144s 56ms/sample - loss: 0.1304 - acc: 0.9518 - val_loss: 0.7041 - val_acc: 0.7932\n"
     ]
    }
   ],
   "source": [
    "history = model.fit([X_train[\"input_ids\"], X_train[\"attention_mask\"]], \n",
    "          y_train, \n",
    "          batch_size=128, \n",
    "          epochs=30, \n",
    "          verbose=1, \n",
    "          validation_split=0.2)"
   ]
  },
  {
   "cell_type": "code",
   "execution_count": 35,
   "metadata": {},
   "outputs": [
    {
     "data": {
      "image/png": "[encoded data removed]",
      "text/plain": [
       "<Figure size 432x288 with 1 Axes>"
      ]
     },
     "metadata": {
      "needs_background": "light"
     },
     "output_type": "display_data"
    },
    {
     "data": {
      "image/png": "[encoded data removed]",
      "text/plain": [
       "<Figure size 432x288 with 1 Axes>"
      ]
     },
     "metadata": {
      "needs_background": "light"
     },
     "output_type": "display_data"
    }
   ],
   "source": [
    "import matplotlib.pyplot as plt\n",
    "\n",
    "plt.plot(history.history['acc'])\n",
    "plt.plot(history.history['val_acc'])\n",
    "\n",
    "plt.title('model accuracy')\n",
    "plt.ylabel('acc')\n",
    "plt.xlabel('epoch')\n",
    "plt.legend(['train','test'], loc='upper left')\n",
    "plt.show()\n",
    "\n",
    "plt.plot(history.history['loss'])\n",
    "plt.plot(history.history['val_loss'])\n",
    "\n",
    "plt.title('model loss')\n",
    "plt.ylabel('loss')\n",
    "plt.xlabel('epoch')\n",
    "plt.legend(['train','test'], loc='lower left')\n",
    "plt.show()"
   ]
  },
  {
   "cell_type": "code",
   "execution_count": 32,
   "metadata": {},
   "outputs": [
    {
     "name": "stdout",
     "output_type": "stream",
     "text": [
      "810/810 [==============================] - 54s 67ms/sample - loss: 0.6503 - acc: 0.8185\n"
     ]
    }
   ],
   "source": [
    "score = model.evaluate([X_test[\"input_ids\"], X_test[\"attention_mask\"]], y_test, verbose=1)"
   ]
  },
  {
   "cell_type": "code",
   "execution_count": 33,
   "metadata": {},
   "outputs": [
    {
     "name": "stdout",
     "output_type": "stream",
     "text": [
      "Test Score: 0.6503186013963488\n",
      "Test Accuracy: 0.8185185\n"
     ]
    }
   ],
   "source": [
    "print(\"Test Score:\", score[0])\n",
    "print(\"Test Accuracy:\", score[1])"
   ]
  },
  {
   "cell_type": "code",
   "execution_count": 34,
   "metadata": {},
   "outputs": [],
   "source": [
    "model.save_weights('models/final_models/route_and_gear/route_and_gear')"
   ]
  },
  {
   "cell_type": "markdown",
   "metadata": {},
   "source": [
    "## best epoch is 8:\n",
    "loss: 0.4685 - acc: 0.8082 - val_loss: 0.5153 - val_acc: 0.8071"
   ]
  },
  {
   "cell_type": "code",
   "execution_count": 36,
   "metadata": {},
   "outputs": [
    {
     "name": "stdout",
     "output_type": "stream",
     "text": [
      "Train on 2591 samples, validate on 648 samples\n",
      "Epoch 1/8\n",
      "2591/2591 [==============================] - 239s 92ms/sample - loss: 0.1070 - acc: 0.9645 - val_loss: 0.7557 - val_acc: 0.7932\n",
      "Epoch 2/8\n",
      "2591/2591 [==============================] - 236s 91ms/sample - loss: 0.1017 - acc: 0.9645 - val_loss: 0.7718 - val_acc: 0.7948\n",
      "Epoch 3/8\n",
      "2591/2591 [==============================] - 245s 95ms/sample - loss: 0.0954 - acc: 0.9653 - val_loss: 0.7886 - val_acc: 0.7840\n",
      "Epoch 4/8\n",
      "2591/2591 [==============================] - 246s 95ms/sample - loss: 0.0969 - acc: 0.9672 - val_loss: 0.7561 - val_acc: 0.7886\n",
      "Epoch 5/8\n",
      "2591/2591 [==============================] - 239s 92ms/sample - loss: 0.1023 - acc: 0.9599 - val_loss: 0.7701 - val_acc: 0.7855\n",
      "Epoch 6/8\n",
      "2591/2591 [==============================] - 240s 93ms/sample - loss: 0.1028 - acc: 0.9637 - val_loss: 0.7853 - val_acc: 0.7963\n",
      "Epoch 7/8\n",
      "2591/2591 [==============================] - 164s 63ms/sample - loss: 0.0801 - acc: 0.9734 - val_loss: 0.8610 - val_acc: 0.7762\n",
      "Epoch 8/8\n",
      "2591/2591 [==============================] - 140s 54ms/sample - loss: 0.0853 - acc: 0.9703 - val_loss: 0.8383 - val_acc: 0.8086\n"
     ]
    }
   ],
   "source": [
    "history = model.fit([X_train[\"input_ids\"], X_train[\"attention_mask\"]], \n",
    "          y_train, \n",
    "          batch_size=128, \n",
    "          epochs=8, \n",
    "          verbose=1, \n",
    "          validation_split=0.2)"
   ]
  },
  {
   "cell_type": "code",
   "execution_count": 40,
   "metadata": {},
   "outputs": [
    {
     "data": {
      "image/png": "[encoded data removed]",
      "text/plain": [
       "<Figure size 432x288 with 1 Axes>"
      ]
     },
     "metadata": {
      "needs_background": "light"
     },
     "output_type": "display_data"
    },
    {
     "data": {
      "image/png": "[encoded data removed]",
      "text/plain": [
       "<Figure size 432x288 with 1 Axes>"
      ]
     },
     "metadata": {
      "needs_background": "light"
     },
     "output_type": "display_data"
    }
   ],
   "source": [
    "plt.plot(history.history['acc'])\n",
    "plt.plot(history.history['val_acc'])\n",
    "\n",
    "plt.title('model accuracy')\n",
    "plt.ylabel('acc')\n",
    "plt.xlabel('epoch')\n",
    "plt.legend(['train','test'], loc='center right')\n",
    "plt.show()\n",
    "\n",
    "plt.plot(history.history['loss'])\n",
    "plt.plot(history.history['val_loss'])\n",
    "\n",
    "plt.title('model loss')\n",
    "plt.ylabel('loss')\n",
    "plt.xlabel('epoch')\n",
    "plt.legend(['train','test'], loc='center right')\n",
    "plt.show()"
   ]
  },
  {
   "cell_type": "code",
   "execution_count": 38,
   "metadata": {},
   "outputs": [
    {
     "name": "stdout",
     "output_type": "stream",
     "text": [
      "810/810 [==============================] - 31s 38ms/sample - loss: 0.7965 - acc: 0.8148\n",
      "Test Score: 0.7964552502573272\n",
      "Test Accuracy: 0.8148148\n"
     ]
    }
   ],
   "source": [
    "score = model.evaluate([X_test[\"input_ids\"], X_test[\"attention_mask\"]], y_test, verbose=1)\n",
    "print(\"Test Score:\", score[0])\n",
    "print(\"Test Accuracy:\", score[1])"
   ]
  },
  {
   "cell_type": "code",
   "execution_count": 39,
   "metadata": {},
   "outputs": [],
   "source": [
    "model.save_weights('models/final_models/route_and_gear2/route_and_gear2')"
   ]
  },
  {
   "cell_type": "code",
   "execution_count": null,
   "metadata": {},
   "outputs": [],
   "source": []
  }
 ],
 "metadata": {
  "kernelspec": {
   "display_name": "Python 3",
   "language": "python",
   "name": "python3"
  },
  "language_info": {
   "codemirror_mode": {
    "name": "ipython",
    "version": 3
   },
   "file_extension": ".py",
   "mimetype": "text/x-python",
   "name": "python",
   "nbconvert_exporter": "python",
   "pygments_lexer": "ipython3",
   "version": "3.7.6"
  }
 },
 "nbformat": 4,
 "nbformat_minor": 4
}
