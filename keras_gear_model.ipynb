{
 "cells": [
  {
   "cell_type": "markdown",
   "metadata": {},
   "source": [
    "# Create a model using DistilBERT tuned on only gear data"
   ]
  },
  {
   "cell_type": "code",
   "execution_count": 16,
   "metadata": {},
   "outputs": [],
   "source": [
    "from transformers import pipeline\n",
    "from transformers import AutoTokenizer, TFAutoModelForSequenceClassification\n",
    "from transformers import DistilBertTokenizer, DistilBertModel, DistilBertConfig, TFAutoModelWithLMHead, TFAutoModel, AutoModel\n",
    "\n",
    "from sklearn.model_selection import train_test_split\n",
    "\n",
    "import tensorflow as tf\n",
    "\n",
    "import pandas as pd\n",
    "import numpy as np\n",
    "\n",
    "classifier = pipeline('sentiment-analysis')"
   ]
  },
  {
   "cell_type": "code",
   "execution_count": 17,
   "metadata": {},
   "outputs": [],
   "source": [
    "import random\n",
    "random.seed(42)"
   ]
  },
  {
   "cell_type": "code",
   "execution_count": 18,
   "metadata": {},
   "outputs": [],
   "source": [
    "save_directory = \"models/trailspace_model\""
   ]
  },
  {
   "cell_type": "code",
   "execution_count": 19,
   "metadata": {},
   "outputs": [
    {
     "name": "stderr",
     "output_type": "stream",
     "text": [
      "All PyTorch model weights were used when initializing TFDistilBertModel.\n",
      "\n",
      "All the weights of TFDistilBertModel were initialized from the TF 2.0 model.\n",
      "If your task is similar to the task the model of the ckeckpoint was trained on, you can already use TFDistilBertModel for predictions without further training.\n"
     ]
    }
   ],
   "source": [
    "config = DistilBertConfig(dropout=0.2, attention_dropout=0.2)\n",
    "config.output_hidden_states = False\n",
    "transformer_model = TFAutoModel.from_pretrained(save_directory, from_pt=True, config = config)\n",
    "\n",
    "input_ids_in = tf.keras.layers.Input(shape=(128,), name='input_token', dtype='int32')\n",
    "input_masks_in = tf.keras.layers.Input(shape=(128,), name='masked_token', dtype='int32') \n",
    "\n",
    "embedding_layer = transformer_model(input_ids_in, attention_mask=input_masks_in)[0]\n",
    "X = tf.keras.layers.Bidirectional(tf.keras.layers.LSTM(50, return_sequences=True, dropout=0.1, recurrent_dropout=0.1))(embedding_layer)\n",
    "X = tf.keras.layers.GlobalMaxPool1D()(X)\n",
    "X = tf.keras.layers.Dense(50, activation='relu')(X)\n",
    "X = tf.keras.layers.Dropout(0.2)(X)\n",
    "X = tf.keras.layers.Dense(3, activation='sigmoid')(X)\n",
    "tf.keras.layers.Softmax(axis=-1)\n",
    "model = tf.keras.Model(inputs=[input_ids_in, input_masks_in], outputs = X)\n",
    "\n",
    "for layer in model.layers[:3]:\n",
    "    layer.trainable = False\n",
    "    \n",
    "model.compile(optimizer=\"Adam\", loss=tf.keras.losses.CategoricalCrossentropy(), metrics=[\"acc\"])"
   ]
  },
  {
   "cell_type": "code",
   "execution_count": 20,
   "metadata": {},
   "outputs": [],
   "source": [
    "df = pd.read_csv('data/labeled_forum_test.csv')\n",
    "X_train, X_test, y_train, y_test = train_test_split(df[\"text\"], df[\"sentiment\"], test_size=0.20, random_state=42)"
   ]
  },
  {
   "cell_type": "code",
   "execution_count": 21,
   "metadata": {},
   "outputs": [],
   "source": [
    "# Create X values\n",
    "tokenizer = AutoTokenizer.from_pretrained(save_directory)\n",
    "X_train = tokenizer(\n",
    "     list(X_train),\n",
    "     padding=True,\n",
    "     truncation=True,\n",
    "     return_tensors=\"tf\",\n",
    "     max_length = 128\n",
    " )\n",
    "\n",
    "X_test = tokenizer(\n",
    "     list(X_test),\n",
    "     padding=True,\n",
    "     truncation=True,\n",
    "     return_tensors=\"tf\",\n",
    "     max_length = 128\n",
    " )"
   ]
  },
  {
   "cell_type": "code",
   "execution_count": 22,
   "metadata": {},
   "outputs": [],
   "source": [
    "# Create Y values\n",
    "y_train = pd.get_dummies(y_train)\n",
    "y_test = pd.get_dummies(y_test)"
   ]
  },
  {
   "cell_type": "code",
   "execution_count": 23,
   "metadata": {},
   "outputs": [
    {
     "name": "stdout",
     "output_type": "stream",
     "text": [
      "Train on 2591 samples, validate on 648 samples\n",
      "Epoch 1/30\n",
      "2591/2591 [==============================] - 254s 98ms/sample - loss: 0.7702 - acc: 0.7337 - val_loss: 0.6992 - val_acc: 0.7500\n",
      "Epoch 2/30\n",
      "2591/2591 [==============================] - 226s 87ms/sample - loss: 0.6764 - acc: 0.7499 - val_loss: 0.6299 - val_acc: 0.7500\n",
      "Epoch 3/30\n",
      "2591/2591 [==============================] - 216s 83ms/sample - loss: 0.6153 - acc: 0.7607 - val_loss: 0.5810 - val_acc: 0.7778\n",
      "Epoch 4/30\n",
      "2591/2591 [==============================] - 164s 63ms/sample - loss: 0.5786 - acc: 0.7777 - val_loss: 0.5657 - val_acc: 0.7870\n",
      "Epoch 5/30\n",
      "2591/2591 [==============================] - 135s 52ms/sample - loss: 0.5634 - acc: 0.7785 - val_loss: 0.5473 - val_acc: 0.7917\n",
      "Epoch 6/30\n",
      "2591/2591 [==============================] - 135s 52ms/sample - loss: 0.5290 - acc: 0.7866 - val_loss: 0.5295 - val_acc: 0.8040\n",
      "Epoch 7/30\n",
      "2591/2591 [==============================] - 135s 52ms/sample - loss: 0.5266 - acc: 0.7981 - val_loss: 0.5300 - val_acc: 0.8102\n",
      "Epoch 8/30\n",
      "2591/2591 [==============================] - 135s 52ms/sample - loss: 0.4989 - acc: 0.8070 - val_loss: 0.5238 - val_acc: 0.7994\n",
      "Epoch 9/30\n",
      "2591/2591 [==============================] - 135s 52ms/sample - loss: 0.4903 - acc: 0.8059 - val_loss: 0.5144 - val_acc: 0.7917\n",
      "Epoch 10/30\n",
      "2591/2591 [==============================] - 135s 52ms/sample - loss: 0.4709 - acc: 0.8070 - val_loss: 0.5169 - val_acc: 0.8040\n",
      "Epoch 11/30\n",
      "2591/2591 [==============================] - 135s 52ms/sample - loss: 0.4365 - acc: 0.8252 - val_loss: 0.5165 - val_acc: 0.7917\n",
      "Epoch 12/30\n",
      "2591/2591 [==============================] - 135s 52ms/sample - loss: 0.4245 - acc: 0.8356 - val_loss: 0.5199 - val_acc: 0.8040\n",
      "Epoch 13/30\n",
      "2591/2591 [==============================] - 139s 54ms/sample - loss: 0.4024 - acc: 0.8421 - val_loss: 0.5224 - val_acc: 0.8025\n",
      "Epoch 14/30\n",
      "2591/2591 [==============================] - 146s 56ms/sample - loss: 0.3802 - acc: 0.8503 - val_loss: 0.5146 - val_acc: 0.7994\n",
      "Epoch 15/30\n",
      "2591/2591 [==============================] - 139s 54ms/sample - loss: 0.3835 - acc: 0.8522 - val_loss: 0.5225 - val_acc: 0.7994\n",
      "Epoch 16/30\n",
      "2591/2591 [==============================] - 135s 52ms/sample - loss: 0.3481 - acc: 0.8641 - val_loss: 0.5184 - val_acc: 0.7901\n",
      "Epoch 17/30\n",
      "2591/2591 [==============================] - 135s 52ms/sample - loss: 0.3332 - acc: 0.8730 - val_loss: 0.5196 - val_acc: 0.8086\n",
      "Epoch 18/30\n",
      "2591/2591 [==============================] - 135s 52ms/sample - loss: 0.3347 - acc: 0.8672 - val_loss: 0.5611 - val_acc: 0.7870\n",
      "Epoch 19/30\n",
      "2591/2591 [==============================] - 135s 52ms/sample - loss: 0.3430 - acc: 0.8622 - val_loss: 0.5525 - val_acc: 0.8009\n",
      "Epoch 20/30\n",
      "2591/2591 [==============================] - 135s 52ms/sample - loss: 0.3248 - acc: 0.8761 - val_loss: 0.5439 - val_acc: 0.8056\n",
      "Epoch 21/30\n",
      "2591/2591 [==============================] - 135s 52ms/sample - loss: 0.2948 - acc: 0.8800 - val_loss: 0.5786 - val_acc: 0.7778\n",
      "Epoch 22/30\n",
      "2591/2591 [==============================] - 135s 52ms/sample - loss: 0.2824 - acc: 0.8915 - val_loss: 0.6057 - val_acc: 0.7809\n",
      "Epoch 23/30\n",
      "2591/2591 [==============================] - 135s 52ms/sample - loss: 0.2546 - acc: 0.9012 - val_loss: 0.5988 - val_acc: 0.7994\n",
      "Epoch 24/30\n",
      "2591/2591 [==============================] - 135s 52ms/sample - loss: 0.2346 - acc: 0.9120 - val_loss: 0.5922 - val_acc: 0.7917\n",
      "Epoch 25/30\n",
      "2591/2591 [==============================] - 135s 52ms/sample - loss: 0.2179 - acc: 0.9217 - val_loss: 0.6380 - val_acc: 0.7840\n",
      "Epoch 26/30\n",
      "2591/2591 [==============================] - 135s 52ms/sample - loss: 0.2134 - acc: 0.9224 - val_loss: 0.6302 - val_acc: 0.7948\n",
      "Epoch 27/30\n",
      "2591/2591 [==============================] - 135s 52ms/sample - loss: 0.2095 - acc: 0.9259 - val_loss: 0.6833 - val_acc: 0.7623\n",
      "Epoch 28/30\n",
      "2591/2591 [==============================] - 135s 52ms/sample - loss: 0.1952 - acc: 0.9240 - val_loss: 0.6973 - val_acc: 0.7685\n",
      "Epoch 29/30\n",
      "2591/2591 [==============================] - 135s 52ms/sample - loss: 0.2102 - acc: 0.9232 - val_loss: 0.6552 - val_acc: 0.7870\n",
      "Epoch 30/30\n",
      "2591/2591 [==============================] - 135s 52ms/sample - loss: 0.1830 - acc: 0.9398 - val_loss: 0.7033 - val_acc: 0.7623\n"
     ]
    }
   ],
   "source": [
    "history = model.fit([X_train[\"input_ids\"], X_train[\"attention_mask\"]], \n",
    "          y_train, \n",
    "          batch_size=128, \n",
    "          epochs=30, \n",
    "          verbose=1, \n",
    "          validation_split=0.2)"
   ]
  },
  {
   "cell_type": "code",
   "execution_count": 29,
   "metadata": {},
   "outputs": [
    {
     "data": {
      "image/png": "[encoded data removed]",
      "text/plain": [
       "<Figure size 432x288 with 1 Axes>"
      ]
     },
     "metadata": {
      "needs_background": "light"
     },
     "output_type": "display_data"
    },
    {
     "data": {
      "image/png": "[encoded data removed]",
      "text/plain": [
       "<Figure size 432x288 with 1 Axes>"
      ]
     },
     "metadata": {
      "needs_background": "light"
     },
     "output_type": "display_data"
    }
   ],
   "source": [
    "import matplotlib.pyplot as plt\n",
    "\n",
    "plt.plot(history.history['acc'])\n",
    "plt.plot(history.history['val_acc'])\n",
    "\n",
    "plt.title('model accuracy')\n",
    "plt.ylabel('acc')\n",
    "plt.xlabel('epoch')\n",
    "plt.legend(['train','test'], loc='upper left')\n",
    "plt.show()\n",
    "\n",
    "plt.plot(history.history['loss'])\n",
    "plt.plot(history.history['val_loss'])\n",
    "\n",
    "plt.title('model loss')\n",
    "plt.ylabel('loss')\n",
    "plt.xlabel('epoch')\n",
    "plt.legend(['train','test'], loc='lower left')\n",
    "plt.show()"
   ]
  },
  {
   "cell_type": "code",
   "execution_count": 26,
   "metadata": {},
   "outputs": [
    {
     "name": "stdout",
     "output_type": "stream",
     "text": [
      "810/810 [==============================] - 29s 35ms/sample - loss: 0.6669 - acc: 0.7704\n"
     ]
    }
   ],
   "source": [
    "score = model.evaluate([X_test[\"input_ids\"], X_test[\"attention_mask\"]], y_test, verbose=1)"
   ]
  },
  {
   "cell_type": "code",
   "execution_count": 27,
   "metadata": {},
   "outputs": [
    {
     "name": "stdout",
     "output_type": "stream",
     "text": [
      "Test Score: 0.6669441355599297\n",
      "Test Accuracy: 0.77037036\n"
     ]
    }
   ],
   "source": [
    "print(\"Test Score:\", score[0])\n",
    "print(\"Test Accuracy:\", score[1])"
   ]
  },
  {
   "cell_type": "code",
   "execution_count": 28,
   "metadata": {},
   "outputs": [],
   "source": [
    "model.save_weights('models/final_models/gear_only/gear_only')"
   ]
  },
  {
   "cell_type": "markdown",
   "metadata": {},
   "source": [
    "## best epoch is 7:\n",
    "loss: 0.5266 - acc: 0.7981 - val_loss: 0.5300 - val_acc: 0.8102\n",
    "\n",
    "I think this one became overfit..."
   ]
  },
  {
   "cell_type": "code",
   "execution_count": 31,
   "metadata": {},
   "outputs": [
    {
     "name": "stdout",
     "output_type": "stream",
     "text": [
      "Train on 2591 samples, validate on 648 samples\n",
      "Epoch 1/7\n",
      "2591/2591 [==============================] - 142s 55ms/sample - loss: 0.1656 - acc: 0.9425 - val_loss: 0.7153 - val_acc: 0.7809\n",
      "Epoch 2/7\n",
      "2591/2591 [==============================] - 236s 91ms/sample - loss: 0.1581 - acc: 0.9402 - val_loss: 0.6779 - val_acc: 0.7855\n",
      "Epoch 3/7\n",
      "2591/2591 [==============================] - 236s 91ms/sample - loss: 0.1363 - acc: 0.9525 - val_loss: 0.7174 - val_acc: 0.8009\n",
      "Epoch 4/7\n",
      "2591/2591 [==============================] - 244s 94ms/sample - loss: 0.1390 - acc: 0.9521 - val_loss: 0.7303 - val_acc: 0.7855\n",
      "Epoch 5/7\n",
      "2591/2591 [==============================] - 246s 95ms/sample - loss: 0.1372 - acc: 0.9537 - val_loss: 0.7432 - val_acc: 0.7623\n",
      "Epoch 6/7\n",
      "2591/2591 [==============================] - 237s 92ms/sample - loss: 0.1216 - acc: 0.9595 - val_loss: 0.7148 - val_acc: 0.7963\n",
      "Epoch 7/7\n",
      "2591/2591 [==============================] - 241s 93ms/sample - loss: 0.1015 - acc: 0.9660 - val_loss: 0.7172 - val_acc: 0.8056\n"
     ]
    }
   ],
   "source": [
    "history = model.fit([X_train[\"input_ids\"], X_train[\"attention_mask\"]], \n",
    "          y_train, \n",
    "          batch_size=128, \n",
    "          epochs=7, \n",
    "          verbose=1, \n",
    "          validation_split=0.2)"
   ]
  },
  {
   "cell_type": "code",
   "execution_count": 36,
   "metadata": {},
   "outputs": [
    {
     "data": {
      "image/png": "[encoded data removed]",
      "text/plain": [
       "<Figure size 432x288 with 1 Axes>"
      ]
     },
     "metadata": {
      "needs_background": "light"
     },
     "output_type": "display_data"
    },
    {
     "data": {
      "image/png": "[encoded data removed]",
      "text/plain": [
       "<Figure size 432x288 with 1 Axes>"
      ]
     },
     "metadata": {
      "needs_background": "light"
     },
     "output_type": "display_data"
    }
   ],
   "source": [
    "plt.plot(history.history['acc'])\n",
    "plt.plot(history.history['val_acc'])\n",
    "\n",
    "plt.title('model accuracy')\n",
    "plt.ylabel('acc')\n",
    "plt.xlabel('epoch')\n",
    "plt.legend(['train','test'], loc='center right')\n",
    "plt.show()\n",
    "\n",
    "plt.plot(history.history['loss'])\n",
    "plt.plot(history.history['val_loss'])\n",
    "\n",
    "plt.title('model loss')\n",
    "plt.ylabel('loss')\n",
    "plt.xlabel('epoch')\n",
    "plt.legend(['train','test'], loc='center right')\n",
    "plt.show()"
   ]
  },
  {
   "cell_type": "code",
   "execution_count": 33,
   "metadata": {},
   "outputs": [
    {
     "name": "stdout",
     "output_type": "stream",
     "text": [
      "810/810 [==============================] - 55s 68ms/sample - loss: 0.7001 - acc: 0.7951\n",
      "Test Score: 0.7001135146176374\n",
      "Test Accuracy: 0.7950617\n"
     ]
    }
   ],
   "source": [
    "score = model.evaluate([X_test[\"input_ids\"], X_test[\"attention_mask\"]], y_test, verbose=1)\n",
    "print(\"Test Score:\", score[0])\n",
    "print(\"Test Accuracy:\", score[1])"
   ]
  },
  {
   "cell_type": "code",
   "execution_count": 34,
   "metadata": {},
   "outputs": [],
   "source": [
    "model.save_weights('models/final_models/gear_only2/gear_only2')"
   ]
  },
  {
   "cell_type": "code",
   "execution_count": null,
   "metadata": {},
   "outputs": [],
   "source": []
  }
 ],
 "metadata": {
  "kernelspec": {
   "display_name": "Python 3",
   "language": "python",
   "name": "python3"
  },
  "language_info": {
   "codemirror_mode": {
    "name": "ipython",
    "version": 3
   },
   "file_extension": ".py",
   "mimetype": "text/x-python",
   "name": "python",
   "nbconvert_exporter": "python",
   "pygments_lexer": "ipython3",
   "version": "3.7.6"
  }
 },
 "nbformat": 4,
 "nbformat_minor": 4
}
