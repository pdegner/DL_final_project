{
 "cells": [
  {
   "cell_type": "markdown",
   "metadata": {},
   "source": [
    "# Create a model from DistilBERT with no tuning"
   ]
  },
  {
   "cell_type": "code",
   "execution_count": 154,
   "metadata": {},
   "outputs": [],
   "source": [
    "from transformers import pipeline\n",
    "from transformers import AutoTokenizer, TFAutoModelForSequenceClassification\n",
    "from transformers import DistilBertTokenizer, DistilBertModel, DistilBertConfig, TFAutoModelWithLMHead, TFAutoModel, AutoModel\n",
    "\n",
    "from sklearn.model_selection import train_test_split\n",
    "\n",
    "import tensorflow as tf\n",
    "\n",
    "import pandas as pd\n",
    "import numpy as np\n",
    "\n",
    "classifier = pipeline('sentiment-analysis')\n",
    "\n",
    "import random\n",
    "random.seed(42)"
   ]
  },
  {
   "cell_type": "code",
   "execution_count": 155,
   "metadata": {},
   "outputs": [
    {
     "name": "stderr",
     "output_type": "stream",
     "text": [
      "All PyTorch model weights were used when initializing TFDistilBertModel.\n",
      "\n",
      "Some weights or buffers of the PyTorch model TFDistilBertModel were not initialized from the TF 2.0 model and are newly initialized: ['vocab_transform.bias', 'vocab_projector.bias', 'vocab_transform.weight', 'vocab_layer_norm.weight', 'vocab_layer_norm.bias', 'vocab_projector.weight']\n",
      "You should probably TRAIN this model on a down-stream task to be able to use it for predictions and inference.\n"
     ]
    }
   ],
   "source": [
    "save_directory = \"distilbert-base-uncased\"\n",
    "config = DistilBertConfig(dropout=0.2, attention_dropout=0.2)\n",
    "config.output_hidden_states = False\n",
    "transformer_model = TFAutoModel.from_pretrained(save_directory, from_pt=True, config = config)\n",
    "\n",
    "input_ids_in = tf.keras.layers.Input(shape=(128,), name='input_token', dtype='int32')\n",
    "input_masks_in = tf.keras.layers.Input(shape=(128,), name='masked_token', dtype='int32') \n",
    "\n",
    "embedding_layer = transformer_model(input_ids_in, attention_mask=input_masks_in)[0]\n",
    "X = tf.keras.layers.Bidirectional(tf.keras.layers.LSTM(50, return_sequences=True, dropout=0.1, recurrent_dropout=0.1))(embedding_layer)\n",
    "X = tf.keras.layers.GlobalMaxPool1D()(X)\n",
    "X = tf.keras.layers.Dense(50, activation='relu')(X)\n",
    "X = tf.keras.layers.Dropout(0.2)(X)\n",
    "X = tf.keras.layers.Dense(3, activation='sigmoid')(X)\n",
    "tf.keras.layers.Softmax(axis=-1)\n",
    "model = tf.keras.Model(inputs=[input_ids_in, input_masks_in], outputs = X)\n",
    "\n",
    "for layer in model.layers[:3]:\n",
    "    layer.trainable = False\n",
    "    \n",
    "model.compile(optimizer=\"Adam\", loss=tf.keras.losses.CategoricalCrossentropy(), metrics=[\"acc\"])"
   ]
  },
  {
   "cell_type": "code",
   "execution_count": 156,
   "metadata": {},
   "outputs": [],
   "source": [
    "df = pd.read_csv('data/labeled_forum_test.csv')\n",
    "X_train, X_test, y_train, y_test = train_test_split(df[\"text\"], df[\"sentiment\"], test_size=0.20, random_state=42)"
   ]
  },
  {
   "cell_type": "code",
   "execution_count": 157,
   "metadata": {},
   "outputs": [],
   "source": [
    "# Create X values\n",
    "tokenizer = AutoTokenizer.from_pretrained(save_directory)\n",
    "X_train = tokenizer(\n",
    "     list(X_train),\n",
    "     padding=True,\n",
    "     truncation=True,\n",
    "     return_tensors=\"tf\",\n",
    "     max_length = 128\n",
    " )\n",
    "\n",
    "X_test = tokenizer(\n",
    "     list(X_test),\n",
    "     padding=True,\n",
    "     truncation=True,\n",
    "     return_tensors=\"tf\",\n",
    "     max_length = 128\n",
    " )"
   ]
  },
  {
   "cell_type": "code",
   "execution_count": 158,
   "metadata": {},
   "outputs": [],
   "source": [
    "# Create Y values\n",
    "y_train = pd.get_dummies(y_train)\n",
    "y_test = pd.get_dummies(y_test)"
   ]
  },
  {
   "cell_type": "code",
   "execution_count": 159,
   "metadata": {},
   "outputs": [
    {
     "name": "stdout",
     "output_type": "stream",
     "text": [
      "Train on 2591 samples, validate on 648 samples\n",
      "Epoch 1/30\n",
      "2591/2591 [==============================] - 152s 59ms/sample - loss: 0.7549 - acc: 0.7302 - val_loss: 0.7006 - val_acc: 0.7500\n",
      "Epoch 2/30\n",
      "2591/2591 [==============================] - 142s 55ms/sample - loss: 0.6811 - acc: 0.7495 - val_loss: 0.6345 - val_acc: 0.7500\n",
      "Epoch 3/30\n",
      "2591/2591 [==============================] - 160s 62ms/sample - loss: 0.6139 - acc: 0.7518 - val_loss: 0.5844 - val_acc: 0.7716\n",
      "Epoch 4/30\n",
      "2591/2591 [==============================] - 141s 54ms/sample - loss: 0.5691 - acc: 0.7684 - val_loss: 0.5637 - val_acc: 0.7824\n",
      "Epoch 5/30\n",
      "2591/2591 [==============================] - 143s 55ms/sample - loss: 0.5485 - acc: 0.7843 - val_loss: 0.5451 - val_acc: 0.7978\n",
      "Epoch 6/30\n",
      "2591/2591 [==============================] - 137s 53ms/sample - loss: 0.5270 - acc: 0.7904 - val_loss: 0.5173 - val_acc: 0.8025\n",
      "Epoch 7/30\n",
      "2591/2591 [==============================] - 136s 53ms/sample - loss: 0.5006 - acc: 0.7916 - val_loss: 0.5091 - val_acc: 0.8056\n",
      "Epoch 8/30\n",
      "2591/2591 [==============================] - 136s 53ms/sample - loss: 0.4752 - acc: 0.8101 - val_loss: 0.5087 - val_acc: 0.8102\n",
      "Epoch 9/30\n",
      "2591/2591 [==============================] - 136s 52ms/sample - loss: 0.4641 - acc: 0.8120 - val_loss: 0.5045 - val_acc: 0.7978\n",
      "Epoch 10/30\n",
      "2591/2591 [==============================] - 136s 52ms/sample - loss: 0.4491 - acc: 0.8147 - val_loss: 0.4902 - val_acc: 0.8071\n",
      "Epoch 11/30\n",
      "2591/2591 [==============================] - 136s 52ms/sample - loss: 0.4263 - acc: 0.8356 - val_loss: 0.5203 - val_acc: 0.8009\n",
      "Epoch 12/30\n",
      "2591/2591 [==============================] - 136s 52ms/sample - loss: 0.4259 - acc: 0.8294 - val_loss: 0.4967 - val_acc: 0.8040\n",
      "Epoch 13/30\n",
      "2591/2591 [==============================] - 136s 52ms/sample - loss: 0.4084 - acc: 0.8406 - val_loss: 0.4974 - val_acc: 0.7917\n",
      "Epoch 14/30\n",
      "2591/2591 [==============================] - 135s 52ms/sample - loss: 0.3910 - acc: 0.8491 - val_loss: 0.5113 - val_acc: 0.8179\n",
      "Epoch 15/30\n",
      "2591/2591 [==============================] - 136s 52ms/sample - loss: 0.3828 - acc: 0.8425 - val_loss: 0.4943 - val_acc: 0.8040\n",
      "Epoch 16/30\n",
      "2591/2591 [==============================] - 136s 52ms/sample - loss: 0.3572 - acc: 0.8580 - val_loss: 0.5388 - val_acc: 0.7778\n",
      "Epoch 17/30\n",
      "2591/2591 [==============================] - 135s 52ms/sample - loss: 0.3379 - acc: 0.8668 - val_loss: 0.5174 - val_acc: 0.8102\n",
      "Epoch 18/30\n",
      "2591/2591 [==============================] - 135s 52ms/sample - loss: 0.3287 - acc: 0.8757 - val_loss: 0.5121 - val_acc: 0.8164\n",
      "Epoch 19/30\n",
      "2591/2591 [==============================] - 135s 52ms/sample - loss: 0.3113 - acc: 0.8815 - val_loss: 0.5243 - val_acc: 0.8133\n",
      "Epoch 20/30\n",
      "2591/2591 [==============================] - 136s 52ms/sample - loss: 0.2924 - acc: 0.8854 - val_loss: 0.5584 - val_acc: 0.7948\n",
      "Epoch 21/30\n",
      "2591/2591 [==============================] - 136s 52ms/sample - loss: 0.2826 - acc: 0.8935 - val_loss: 0.5809 - val_acc: 0.8241\n",
      "Epoch 22/30\n",
      "2591/2591 [==============================] - 136s 52ms/sample - loss: 0.2672 - acc: 0.8950 - val_loss: 0.5630 - val_acc: 0.8056\n",
      "Epoch 23/30\n",
      "2591/2591 [==============================] - 136s 52ms/sample - loss: 0.2388 - acc: 0.9116 - val_loss: 0.6014 - val_acc: 0.8241\n",
      "Epoch 24/30\n",
      "2591/2591 [==============================] - 136s 52ms/sample - loss: 0.2372 - acc: 0.9135 - val_loss: 0.5933 - val_acc: 0.7963\n",
      "Epoch 25/30\n",
      "2591/2591 [==============================] - 137s 53ms/sample - loss: 0.2111 - acc: 0.9186 - val_loss: 0.6136 - val_acc: 0.8179\n",
      "Epoch 26/30\n",
      "2591/2591 [==============================] - 146s 56ms/sample - loss: 0.1934 - acc: 0.9271 - val_loss: 0.6366 - val_acc: 0.8210\n",
      "Epoch 27/30\n",
      "2591/2591 [==============================] - 147s 57ms/sample - loss: 0.1898 - acc: 0.9313 - val_loss: 0.6501 - val_acc: 0.7716\n",
      "Epoch 28/30\n",
      "2591/2591 [==============================] - 147s 57ms/sample - loss: 0.1755 - acc: 0.9313 - val_loss: 0.6378 - val_acc: 0.8102\n",
      "Epoch 29/30\n",
      "2591/2591 [==============================] - 147s 57ms/sample - loss: 0.1543 - acc: 0.9394 - val_loss: 0.6760 - val_acc: 0.8056\n",
      "Epoch 30/30\n",
      "2591/2591 [==============================] - 143s 55ms/sample - loss: 0.1438 - acc: 0.9521 - val_loss: 0.6724 - val_acc: 0.8071\n"
     ]
    }
   ],
   "source": [
    "history = model.fit([X_train[\"input_ids\"], X_train[\"attention_mask\"]], \n",
    "          y_train, \n",
    "          batch_size=128, \n",
    "          epochs=30, \n",
    "          verbose=1, \n",
    "          validation_split=0.2,\n",
    "         )"
   ]
  },
  {
   "cell_type": "code",
   "execution_count": 164,
   "metadata": {
    "scrolled": true
   },
   "outputs": [
    {
     "data": {
      "image/png": "[encoded data removed]",
      "text/plain": [
       "<Figure size 432x288 with 1 Axes>"
      ]
     },
     "metadata": {
      "needs_background": "light"
     },
     "output_type": "display_data"
    },
    {
     "data": {
      "image/png": "[encoded data removed]",
      "text/plain": [
       "<Figure size 432x288 with 1 Axes>"
      ]
     },
     "metadata": {
      "needs_background": "light"
     },
     "output_type": "display_data"
    }
   ],
   "source": [
    "import matplotlib.pyplot as plt\n",
    "\n",
    "plt.plot(history.history['acc'])\n",
    "plt.plot(history.history['val_acc'])\n",
    "\n",
    "plt.title('model accuracy')\n",
    "plt.ylabel('acc')\n",
    "plt.xlabel('epoch')\n",
    "plt.legend(['train','test'], loc='upper left')\n",
    "plt.show()\n",
    "\n",
    "plt.plot(history.history['loss'])\n",
    "plt.plot(history.history['val_loss'])\n",
    "\n",
    "plt.title('model loss')\n",
    "plt.ylabel('loss')\n",
    "plt.xlabel('epoch')\n",
    "plt.legend(['train','test'], loc='lower left')\n",
    "plt.show()"
   ]
  },
  {
   "cell_type": "code",
   "execution_count": 161,
   "metadata": {},
   "outputs": [
    {
     "name": "stdout",
     "output_type": "stream",
     "text": [
      "810/810 [==============================] - 34s 42ms/sample - loss: 0.6596 - acc: 0.8049\n"
     ]
    }
   ],
   "source": [
    "score = model.evaluate([X_test[\"input_ids\"], X_test[\"attention_mask\"]], y_test, verbose=1)"
   ]
  },
  {
   "cell_type": "code",
   "execution_count": 162,
   "metadata": {},
   "outputs": [
    {
     "name": "stdout",
     "output_type": "stream",
     "text": [
      "Test Score: 0.659552362230089\n",
      "Test Accuracy: 0.80493826\n"
     ]
    }
   ],
   "source": [
    "print(\"Test Score:\", score[0])\n",
    "print(\"Test Accuracy:\", score[1])"
   ]
  },
  {
   "cell_type": "code",
   "execution_count": 163,
   "metadata": {},
   "outputs": [],
   "source": [
    "model.save_weights('models/final_models/bert_only/bert_only')"
   ]
  },
  {
   "cell_type": "markdown",
   "metadata": {},
   "source": [
    "## best epoch is 8:\n",
    "loss: 0.4752 - acc: 0.8101 - val_loss: 0.5087 - val_acc: 0.8102"
   ]
  },
  {
   "cell_type": "code",
   "execution_count": 165,
   "metadata": {},
   "outputs": [
    {
     "name": "stdout",
     "output_type": "stream",
     "text": [
      "Train on 2591 samples, validate on 648 samples\n",
      "Epoch 1/8\n",
      "2591/2591 [==============================] - 242s 93ms/sample - loss: 0.1521 - acc: 0.9452 - val_loss: 0.6486 - val_acc: 0.8009\n",
      "Epoch 2/8\n",
      "2591/2591 [==============================] - 244s 94ms/sample - loss: 0.1380 - acc: 0.9467 - val_loss: 0.6846 - val_acc: 0.7948\n",
      "Epoch 3/8\n",
      "2591/2591 [==============================] - 240s 93ms/sample - loss: 0.1284 - acc: 0.9506 - val_loss: 0.7343 - val_acc: 0.8117\n",
      "Epoch 4/8\n",
      "2591/2591 [==============================] - 244s 94ms/sample - loss: 0.1061 - acc: 0.9641 - val_loss: 0.7688 - val_acc: 0.7747\n",
      "Epoch 5/8\n",
      "2591/2591 [==============================] - 240s 93ms/sample - loss: 0.1307 - acc: 0.9525 - val_loss: 0.7685 - val_acc: 0.8117\n",
      "Epoch 6/8\n",
      "2591/2591 [==============================] - 194s 75ms/sample - loss: 0.1572 - acc: 0.9402 - val_loss: 0.7553 - val_acc: 0.8164\n",
      "Epoch 7/8\n",
      "2591/2591 [==============================] - 137s 53ms/sample - loss: 0.1148 - acc: 0.9599 - val_loss: 0.7630 - val_acc: 0.8040\n",
      "Epoch 8/8\n",
      "2591/2591 [==============================] - 143s 55ms/sample - loss: 0.0960 - acc: 0.9680 - val_loss: 0.7554 - val_acc: 0.8009\n"
     ]
    }
   ],
   "source": [
    "history = model.fit([X_train[\"input_ids\"], X_train[\"attention_mask\"]], \n",
    "          y_train, \n",
    "          batch_size=128, \n",
    "          epochs=8, \n",
    "          verbose=1, \n",
    "          validation_split=0.2)"
   ]
  },
  {
   "cell_type": "code",
   "execution_count": 166,
   "metadata": {},
   "outputs": [
    {
     "data": {
      "image/png": "[encoded data removed]",
      "text/plain": [
       "<Figure size 432x288 with 1 Axes>"
      ]
     },
     "metadata": {
      "needs_background": "light"
     },
     "output_type": "display_data"
    },
    {
     "data": {
      "image/png": "[encoded data removed]",
      "text/plain": [
       "<Figure size 432x288 with 1 Axes>"
      ]
     },
     "metadata": {
      "needs_background": "light"
     },
     "output_type": "display_data"
    }
   ],
   "source": [
    "plt.plot(history.history['acc'])\n",
    "plt.plot(history.history['val_acc'])\n",
    "\n",
    "plt.title('model accuracy')\n",
    "plt.ylabel('acc')\n",
    "plt.xlabel('epoch')\n",
    "plt.legend(['train','test'], loc='center right')\n",
    "plt.show()\n",
    "\n",
    "plt.plot(history.history['loss'])\n",
    "plt.plot(history.history['val_loss'])\n",
    "\n",
    "plt.title('model loss')\n",
    "plt.ylabel('loss')\n",
    "plt.xlabel('epoch')\n",
    "plt.legend(['train','test'], loc='center right')\n",
    "plt.show()"
   ]
  },
  {
   "cell_type": "code",
   "execution_count": 167,
   "metadata": {},
   "outputs": [
    {
     "name": "stdout",
     "output_type": "stream",
     "text": [
      "810/810 [==============================] - 30s 37ms/sample - loss: 0.7401 - acc: 0.8099\n",
      "Test Score: 0.7401057767279354\n",
      "Test Accuracy: 0.80987656\n"
     ]
    }
   ],
   "source": [
    "score = model.evaluate([X_test[\"input_ids\"], X_test[\"attention_mask\"]], y_test, verbose=1)\n",
    "print(\"Test Score:\", score[0])\n",
    "print(\"Test Accuracy:\", score[1])"
   ]
  },
  {
   "cell_type": "code",
   "execution_count": 168,
   "metadata": {},
   "outputs": [],
   "source": [
    "model.save_weights('models/final_models/bert_only2/bert_only2')"
   ]
  },
  {
   "cell_type": "code",
   "execution_count": null,
   "metadata": {},
   "outputs": [],
   "source": []
  },
  {
   "cell_type": "code",
   "execution_count": null,
   "metadata": {},
   "outputs": [],
   "source": []
  }
 ],
 "metadata": {
  "kernelspec": {
   "display_name": "Python 3",
   "language": "python",
   "name": "python3"
  },
  "language_info": {
   "codemirror_mode": {
    "name": "ipython",
    "version": 3
   },
   "file_extension": ".py",
   "mimetype": "text/x-python",
   "name": "python",
   "nbconvert_exporter": "python",
   "pygments_lexer": "ipython3",
   "version": "3.7.6"
  }
 },
 "nbformat": 4,
 "nbformat_minor": 4
}
