{
 "cells": [
  {
   "cell_type": "markdown",
   "metadata": {},
   "source": [
    "# Create a model using DistilBERT trained on route data"
   ]
  },
  {
   "cell_type": "code",
   "execution_count": 35,
   "metadata": {},
   "outputs": [],
   "source": [
    "from transformers import pipeline\n",
    "from transformers import AutoTokenizer, TFAutoModelForSequenceClassification\n",
    "from transformers import DistilBertTokenizer, DistilBertModel, DistilBertConfig, TFAutoModelWithLMHead, TFAutoModel, AutoModel\n",
    "\n",
    "from sklearn.model_selection import train_test_split\n",
    "\n",
    "import tensorflow as tf\n",
    "\n",
    "import pandas as pd\n",
    "import numpy as np\n",
    "\n",
    "classifier = pipeline('sentiment-analysis')"
   ]
  },
  {
   "cell_type": "code",
   "execution_count": 36,
   "metadata": {},
   "outputs": [],
   "source": [
    "import random\n",
    "random.seed(42)"
   ]
  },
  {
   "cell_type": "code",
   "execution_count": 37,
   "metadata": {},
   "outputs": [],
   "source": [
    "save_directory = \"models/route_model\""
   ]
  },
  {
   "cell_type": "code",
   "execution_count": 38,
   "metadata": {},
   "outputs": [
    {
     "name": "stderr",
     "output_type": "stream",
     "text": [
      "All model checkpoint weights were used when initializing TFDistilBertModel.\n",
      "\n",
      "All the weights of TFDistilBertModel were initialized from the model checkpoint at models/route_model.\n",
      "If your task is similar to the task the model of the ckeckpoint was trained on, you can already use TFDistilBertModel for predictions without further training.\n"
     ]
    }
   ],
   "source": [
    "config = DistilBertConfig(dropout=0.2, attention_dropout=0.2)\n",
    "config.output_hidden_states = False\n",
    "transformer_model = TFAutoModel.from_pretrained(save_directory, from_pt=False, config = config)\n",
    "\n",
    "input_ids_in = tf.keras.layers.Input(shape=(128,), name='input_token', dtype='int32')\n",
    "input_masks_in = tf.keras.layers.Input(shape=(128,), name='masked_token', dtype='int32') \n",
    "\n",
    "embedding_layer = transformer_model(input_ids_in, attention_mask=input_masks_in)[0]\n",
    "X = tf.keras.layers.Bidirectional(tf.keras.layers.LSTM(50, return_sequences=True, dropout=0.1, recurrent_dropout=0.1))(embedding_layer)\n",
    "X = tf.keras.layers.GlobalMaxPool1D()(X)\n",
    "X = tf.keras.layers.Dense(50, activation='relu')(X)\n",
    "X = tf.keras.layers.Dropout(0.2)(X)\n",
    "X = tf.keras.layers.Dense(3, activation='sigmoid')(X)\n",
    "tf.keras.layers.Softmax(axis=-1)\n",
    "model = tf.keras.Model(inputs=[input_ids_in, input_masks_in], outputs = X)\n",
    "\n",
    "for layer in model.layers[:3]:\n",
    "    layer.trainable = False\n",
    "    \n",
    "model.compile(optimizer=\"Adam\", loss=tf.keras.losses.CategoricalCrossentropy(), metrics=[\"acc\"])"
   ]
  },
  {
   "cell_type": "code",
   "execution_count": 39,
   "metadata": {},
   "outputs": [],
   "source": [
    "df = pd.read_csv('data/labeled_forum_test.csv')\n",
    "X_train, X_test, y_train, y_test = train_test_split(df[\"text\"], df[\"sentiment\"], test_size=0.20, random_state=42)"
   ]
  },
  {
   "cell_type": "code",
   "execution_count": 40,
   "metadata": {},
   "outputs": [],
   "source": [
    "# Create X values\n",
    "tokenizer = AutoTokenizer.from_pretrained(save_directory)\n",
    "X_train = tokenizer(\n",
    "     list(X_train),\n",
    "     padding=True,\n",
    "     truncation=True,\n",
    "     return_tensors=\"tf\",\n",
    "     max_length = 128\n",
    " )\n",
    "\n",
    "X_test = tokenizer(\n",
    "     list(X_test),\n",
    "     padding=True,\n",
    "     truncation=True,\n",
    "     return_tensors=\"tf\",\n",
    "     max_length = 128\n",
    " )"
   ]
  },
  {
   "cell_type": "code",
   "execution_count": 41,
   "metadata": {},
   "outputs": [],
   "source": [
    "# Create Y values\n",
    "y_train = pd.get_dummies(y_train)\n",
    "y_test = pd.get_dummies(y_test)"
   ]
  },
  {
   "cell_type": "code",
   "execution_count": 42,
   "metadata": {},
   "outputs": [
    {
     "name": "stdout",
     "output_type": "stream",
     "text": [
      "Train on 2591 samples, validate on 648 samples\n",
      "Epoch 1/30\n",
      "2591/2591 [==============================] - 152s 59ms/sample - loss: 0.7984 - acc: 0.7156 - val_loss: 0.7176 - val_acc: 0.7500\n",
      "Epoch 2/30\n",
      "2591/2591 [==============================] - 145s 56ms/sample - loss: 0.7056 - acc: 0.7495 - val_loss: 0.6777 - val_acc: 0.7500\n",
      "Epoch 3/30\n",
      "2591/2591 [==============================] - 141s 54ms/sample - loss: 0.6560 - acc: 0.7495 - val_loss: 0.6181 - val_acc: 0.7500\n",
      "Epoch 4/30\n",
      "2591/2591 [==============================] - 141s 55ms/sample - loss: 0.6062 - acc: 0.7491 - val_loss: 0.5817 - val_acc: 0.7500\n",
      "Epoch 5/30\n",
      "2591/2591 [==============================] - 142s 55ms/sample - loss: 0.5819 - acc: 0.7541 - val_loss: 0.5514 - val_acc: 0.7747\n",
      "Epoch 6/30\n",
      "2591/2591 [==============================] - 141s 55ms/sample - loss: 0.5407 - acc: 0.7800 - val_loss: 0.5584 - val_acc: 0.7963\n",
      "Epoch 7/30\n",
      "2591/2591 [==============================] - 144s 56ms/sample - loss: 0.5191 - acc: 0.7850 - val_loss: 0.5301 - val_acc: 0.8056\n",
      "Epoch 8/30\n",
      "2591/2591 [==============================] - 141s 54ms/sample - loss: 0.5058 - acc: 0.7981 - val_loss: 0.5544 - val_acc: 0.7840\n",
      "Epoch 9/30\n",
      "2591/2591 [==============================] - 140s 54ms/sample - loss: 0.4812 - acc: 0.7985 - val_loss: 0.5109 - val_acc: 0.8025\n",
      "Epoch 10/30\n",
      "2591/2591 [==============================] - 139s 54ms/sample - loss: 0.4657 - acc: 0.8097 - val_loss: 0.5030 - val_acc: 0.8071\n",
      "Epoch 11/30\n",
      "2591/2591 [==============================] - 136s 52ms/sample - loss: 0.4505 - acc: 0.8178 - val_loss: 0.5204 - val_acc: 0.7978\n",
      "Epoch 12/30\n",
      "2591/2591 [==============================] - 139s 54ms/sample - loss: 0.4324 - acc: 0.8259 - val_loss: 0.5210 - val_acc: 0.7901\n",
      "Epoch 13/30\n",
      "2591/2591 [==============================] - 136s 52ms/sample - loss: 0.4276 - acc: 0.8325 - val_loss: 0.5104 - val_acc: 0.8040\n",
      "Epoch 14/30\n",
      "2591/2591 [==============================] - 134s 52ms/sample - loss: 0.3932 - acc: 0.8371 - val_loss: 0.5262 - val_acc: 0.7886\n",
      "Epoch 15/30\n",
      "2591/2591 [==============================] - 136s 53ms/sample - loss: 0.3653 - acc: 0.8522 - val_loss: 0.5170 - val_acc: 0.8025\n",
      "Epoch 16/30\n",
      "2591/2591 [==============================] - 138s 53ms/sample - loss: 0.3640 - acc: 0.8510 - val_loss: 0.5262 - val_acc: 0.8133\n",
      "Epoch 17/30\n",
      "2591/2591 [==============================] - 142s 55ms/sample - loss: 0.3500 - acc: 0.8672 - val_loss: 0.5153 - val_acc: 0.8117\n",
      "Epoch 18/30\n",
      "2591/2591 [==============================] - 140s 54ms/sample - loss: 0.3154 - acc: 0.8769 - val_loss: 0.5383 - val_acc: 0.8102\n",
      "Epoch 19/30\n",
      "2591/2591 [==============================] - 136s 52ms/sample - loss: 0.3024 - acc: 0.8792 - val_loss: 0.5414 - val_acc: 0.8040\n",
      "Epoch 20/30\n",
      "2591/2591 [==============================] - 135s 52ms/sample - loss: 0.3107 - acc: 0.8807 - val_loss: 0.5609 - val_acc: 0.7963\n",
      "Epoch 21/30\n",
      "2591/2591 [==============================] - 135s 52ms/sample - loss: 0.2812 - acc: 0.8915 - val_loss: 0.5380 - val_acc: 0.8009\n",
      "Epoch 22/30\n",
      "2591/2591 [==============================] - 135s 52ms/sample - loss: 0.2605 - acc: 0.8993 - val_loss: 0.5552 - val_acc: 0.8025\n",
      "Epoch 23/30\n",
      "2591/2591 [==============================] - 135s 52ms/sample - loss: 0.2360 - acc: 0.9139 - val_loss: 0.5474 - val_acc: 0.8164\n",
      "Epoch 24/30\n",
      "2591/2591 [==============================] - 134s 52ms/sample - loss: 0.2152 - acc: 0.9209 - val_loss: 0.6032 - val_acc: 0.8194\n",
      "Epoch 25/30\n",
      "2591/2591 [==============================] - 135s 52ms/sample - loss: 0.2119 - acc: 0.9147 - val_loss: 0.5969 - val_acc: 0.8102\n",
      "Epoch 26/30\n",
      "2591/2591 [==============================] - 135s 52ms/sample - loss: 0.1890 - acc: 0.9352 - val_loss: 0.6473 - val_acc: 0.7608\n",
      "Epoch 27/30\n",
      "2591/2591 [==============================] - 135s 52ms/sample - loss: 0.1985 - acc: 0.9220 - val_loss: 0.6142 - val_acc: 0.7963\n",
      "Epoch 28/30\n",
      "2591/2591 [==============================] - 152s 59ms/sample - loss: 0.1584 - acc: 0.9471 - val_loss: 0.6396 - val_acc: 0.8056\n",
      "Epoch 29/30\n",
      "2591/2591 [==============================] - 225s 87ms/sample - loss: 0.1665 - acc: 0.9452 - val_loss: 0.6556 - val_acc: 0.7793\n",
      "Epoch 30/30\n",
      "2591/2591 [==============================] - 228s 88ms/sample - loss: 0.1768 - acc: 0.9352 - val_loss: 0.6352 - val_acc: 0.7994\n"
     ]
    }
   ],
   "source": [
    "history = model.fit([X_train[\"input_ids\"], X_train[\"attention_mask\"]], \n",
    "          y_train, \n",
    "          batch_size=128, \n",
    "          epochs=30, \n",
    "          verbose=1, \n",
    "          validation_split=0.2)"
   ]
  },
  {
   "cell_type": "code",
   "execution_count": 43,
   "metadata": {},
   "outputs": [
    {
     "data": {
      "text/plain": [
       "dict_keys(['loss', 'acc', 'val_loss', 'val_acc'])"
      ]
     },
     "execution_count": 43,
     "metadata": {},
     "output_type": "execute_result"
    }
   ],
   "source": [
    "history.history.keys()"
   ]
  },
  {
   "cell_type": "code",
   "execution_count": 44,
   "metadata": {},
   "outputs": [
    {
     "data": {
      "image/png": "[encoded data removed]",
      "text/plain": [
       "<Figure size 432x288 with 1 Axes>"
      ]
     },
     "metadata": {
      "needs_background": "light"
     },
     "output_type": "display_data"
    },
    {
     "data": {
      "image/png": "[encoded data removed]",
      "text/plain": [
       "<Figure size 432x288 with 1 Axes>"
      ]
     },
     "metadata": {
      "needs_background": "light"
     },
     "output_type": "display_data"
    }
   ],
   "source": [
    "import matplotlib.pyplot as plt\n",
    "\n",
    "plt.plot(history.history['acc'])\n",
    "plt.plot(history.history['val_acc'])\n",
    "\n",
    "plt.title('model accuracy')\n",
    "plt.ylabel('acc')\n",
    "plt.xlabel('epoch')\n",
    "plt.legend(['train','test'], loc='upper left')\n",
    "plt.show()\n",
    "\n",
    "plt.plot(history.history['loss'])\n",
    "plt.plot(history.history['val_loss'])\n",
    "\n",
    "plt.title('model loss')\n",
    "plt.ylabel('loss')\n",
    "plt.xlabel('epoch')\n",
    "plt.legend(['train','test'], loc='lower left')\n",
    "plt.show()"
   ]
  },
  {
   "cell_type": "code",
   "execution_count": 46,
   "metadata": {},
   "outputs": [
    {
     "name": "stdout",
     "output_type": "stream",
     "text": [
      "810/810 [==============================] - 51s 63ms/sample - loss: 0.5979 - acc: 0.8160\n"
     ]
    }
   ],
   "source": [
    "score = model.evaluate([X_test[\"input_ids\"], X_test[\"attention_mask\"]], y_test, verbose=1)"
   ]
  },
  {
   "cell_type": "code",
   "execution_count": 47,
   "metadata": {},
   "outputs": [
    {
     "name": "stdout",
     "output_type": "stream",
     "text": [
      "Test Score: 0.5978713023809739\n",
      "Test Accuracy: 0.8160494\n"
     ]
    }
   ],
   "source": [
    "print(\"Test Score:\", score[0])\n",
    "print(\"Test Accuracy:\", score[1])"
   ]
  },
  {
   "cell_type": "code",
   "execution_count": 49,
   "metadata": {},
   "outputs": [],
   "source": [
    "model.save_weights('models/final_models/route_only/route_only')"
   ]
  },
  {
   "cell_type": "markdown",
   "metadata": {},
   "source": [
    "## best epoch is 10:\n",
    "loss: 0.4657 - acc: 0.8097 - val_loss: 0.5030 - val_acc: 0.8071"
   ]
  },
  {
   "cell_type": "code",
   "execution_count": 50,
   "metadata": {},
   "outputs": [
    {
     "name": "stdout",
     "output_type": "stream",
     "text": [
      "Train on 2591 samples, validate on 648 samples\n",
      "Epoch 1/10\n",
      "2591/2591 [==============================] - 138s 53ms/sample - loss: 0.1425 - acc: 0.9475 - val_loss: 0.6693 - val_acc: 0.7840\n",
      "Epoch 2/10\n",
      "2591/2591 [==============================] - 139s 54ms/sample - loss: 0.1242 - acc: 0.9556 - val_loss: 0.7387 - val_acc: 0.7639\n",
      "Epoch 3/10\n",
      "2591/2591 [==============================] - 143s 55ms/sample - loss: 0.1181 - acc: 0.9610 - val_loss: 0.7289 - val_acc: 0.7670\n",
      "Epoch 4/10\n",
      "2591/2591 [==============================] - 146s 56ms/sample - loss: 0.1203 - acc: 0.9568 - val_loss: 0.6896 - val_acc: 0.8009\n",
      "Epoch 5/10\n",
      "2591/2591 [==============================] - 177s 68ms/sample - loss: 0.1093 - acc: 0.9626 - val_loss: 0.7271 - val_acc: 0.7824\n",
      "Epoch 6/10\n",
      "2591/2591 [==============================] - 241s 93ms/sample - loss: 0.0992 - acc: 0.9660 - val_loss: 0.7526 - val_acc: 0.7948\n",
      "Epoch 7/10\n",
      "2591/2591 [==============================] - 242s 94ms/sample - loss: 0.0815 - acc: 0.9722 - val_loss: 0.7595 - val_acc: 0.7948\n",
      "Epoch 8/10\n",
      "2591/2591 [==============================] - 240s 93ms/sample - loss: 0.0893 - acc: 0.9691 - val_loss: 0.7691 - val_acc: 0.7932\n",
      "Epoch 9/10\n",
      "2591/2591 [==============================] - 245s 94ms/sample - loss: 0.0733 - acc: 0.9745 - val_loss: 0.8028 - val_acc: 0.8102\n",
      "Epoch 10/10\n",
      "2591/2591 [==============================] - 239s 92ms/sample - loss: 0.0694 - acc: 0.9776 - val_loss: 0.7897 - val_acc: 0.8117\n"
     ]
    }
   ],
   "source": [
    "history = model.fit([X_train[\"input_ids\"], X_train[\"attention_mask\"]], \n",
    "          y_train, \n",
    "          batch_size=128, \n",
    "          epochs=10, \n",
    "          verbose=1, \n",
    "          validation_split=0.2)"
   ]
  },
  {
   "cell_type": "code",
   "execution_count": 51,
   "metadata": {},
   "outputs": [
    {
     "data": {
      "image/png": "[encoded data removed]",
      "text/plain": [
       "<Figure size 432x288 with 1 Axes>"
      ]
     },
     "metadata": {
      "needs_background": "light"
     },
     "output_type": "display_data"
    },
    {
     "data": {
      "image/png": "[encoded data removed]",
      "text/plain": [
       "<Figure size 432x288 with 1 Axes>"
      ]
     },
     "metadata": {
      "needs_background": "light"
     },
     "output_type": "display_data"
    }
   ],
   "source": [
    "plt.plot(history.history['acc'])\n",
    "plt.plot(history.history['val_acc'])\n",
    "\n",
    "plt.title('model accuracy')\n",
    "plt.ylabel('acc')\n",
    "plt.xlabel('epoch')\n",
    "plt.legend(['train','test'], loc='center right')\n",
    "plt.show()\n",
    "\n",
    "plt.plot(history.history['loss'])\n",
    "plt.plot(history.history['val_loss'])\n",
    "\n",
    "plt.title('model loss')\n",
    "plt.ylabel('loss')\n",
    "plt.xlabel('epoch')\n",
    "plt.legend(['train','test'], loc='center right')\n",
    "plt.show()"
   ]
  },
  {
   "cell_type": "code",
   "execution_count": 52,
   "metadata": {},
   "outputs": [
    {
     "name": "stdout",
     "output_type": "stream",
     "text": [
      "810/810 [==============================] - 54s 66ms/sample - loss: 0.7482 - acc: 0.8136\n",
      "Test Score: 0.748170049396562\n",
      "Test Accuracy: 0.8135803\n"
     ]
    }
   ],
   "source": [
    "score = model.evaluate([X_test[\"input_ids\"], X_test[\"attention_mask\"]], y_test, verbose=1)\n",
    "print(\"Test Score:\", score[0])\n",
    "print(\"Test Accuracy:\", score[1])"
   ]
  },
  {
   "cell_type": "code",
   "execution_count": 53,
   "metadata": {},
   "outputs": [],
   "source": [
    "model.save_weights('models/final_models/route_only2/route_only2')"
   ]
  },
  {
   "cell_type": "code",
   "execution_count": null,
   "metadata": {},
   "outputs": [],
   "source": []
  },
  {
   "cell_type": "code",
   "execution_count": null,
   "metadata": {},
   "outputs": [],
   "source": []
  }
 ],
 "metadata": {
  "kernelspec": {
   "display_name": "Python 3",
   "language": "python",
   "name": "python3"
  },
  "language_info": {
   "codemirror_mode": {
    "name": "ipython",
    "version": 3
   },
   "file_extension": ".py",
   "mimetype": "text/x-python",
   "name": "python",
   "nbconvert_exporter": "python",
   "pygments_lexer": "ipython3",
   "version": "3.7.6"
  }
 },
 "nbformat": 4,
 "nbformat_minor": 4
}
