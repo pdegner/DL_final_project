{
 "cells": [
  {
   "cell_type": "markdown",
   "metadata": {},
   "source": [
    "# Trailspace scraping"
   ]
  },
  {
   "cell_type": "markdown",
   "metadata": {},
   "source": [
    "## Get URLs:"
   ]
  },
  {
   "cell_type": "code",
   "execution_count": 126,
   "metadata": {},
   "outputs": [],
   "source": [
    "all_urls = [\"https://www.trailspace.com/gear/mountaineering-boots/\",\n",
    "           \"https://www.trailspace.com/gear/mountaineering-boots/?page=2\",\n",
    "           \"https://www.trailspace.com/gear/mountaineering-boots/?page=3\",\n",
    "           \"https://www.trailspace.com/gear/approach-shoes/\",\n",
    "           \"https://www.trailspace.com/gear/approach-shoes/?page=2\",\n",
    "           \"https://www.trailspace.com/gear/climbing-shoes/\",\n",
    "           \"https://www.trailspace.com/gear/climbing-shoes/?page=2\",\n",
    "           \"https://www.trailspace.com/gear/climbing-protection/\",\n",
    "           \"https://www.trailspace.com/gear/ropes/\",\n",
    "           \"https://www.trailspace.com/gear/carabiners-and-quickdraws/\",\n",
    "           \"https://www.trailspace.com/gear/belay-rappel/\",\n",
    "           \"https://www.trailspace.com/gear/ice-and-snow-gear/\",\n",
    "           \"https://www.trailspace.com/gear/big-wall-aid-gear/\",\n",
    "           \"https://www.trailspace.com/gear/harnesses/\",\n",
    "           \"https://www.trailspace.com/gear/climbing-helmets/\",\n",
    "           \"https://www.trailspace.com/gear/climbing-accessories/\"]"
   ]
  },
  {
   "cell_type": "code",
   "execution_count": 127,
   "metadata": {},
   "outputs": [],
   "source": [
    "from urllib.request import urlopen as uReq\n",
    "from bs4 import BeautifulSoup as soup\n",
    "import os"
   ]
  },
  {
   "cell_type": "code",
   "execution_count": 128,
   "metadata": {},
   "outputs": [],
   "source": [
    "%%capture\n",
    "from tqdm import tqdm_notebook as tqdm\n",
    "tqdm().pandas()"
   ]
  },
  {
   "cell_type": "markdown",
   "metadata": {},
   "source": [
    "## Get all urls"
   ]
  },
  {
   "cell_type": "code",
   "execution_count": 129,
   "metadata": {},
   "outputs": [],
   "source": [
    "def get_gear_subpages(main_url):\n",
    "    # Get HTML info\n",
    "    uClient = uReq(main_url) # request the URL\n",
    "    page_html = uClient.read() # Read the html\n",
    "    uClient.close() # close the connection\n",
    "    gear_soup = soup(page_html, \"html.parser\")\n",
    "\n",
    "\n",
    "    item_urls = []\n",
    "    items = gear_soup.findAll(\"a\", {\"class\":\"plProductSummaryGrid\"})\n",
    "    for a_tag in items:\n",
    "        href = a_tag.attrs.get(\"href\")\n",
    "        if href == \"\" or href is None:\n",
    "            continue\n",
    "        else:\n",
    "            item_urls.append(\"https://www.trailspace.com\"+href)\n",
    "\n",
    "    return item_urls"
   ]
  },
  {
   "cell_type": "code",
   "execution_count": 130,
   "metadata": {},
   "outputs": [
    {
     "name": "stderr",
     "output_type": "stream",
     "text": [
      "/Users/patriciadegner/opt/anaconda3/lib/python3.7/site-packages/ipykernel_launcher.py:2: TqdmDeprecationWarning: This function will be removed in tqdm==5.0.0\n",
      "Please use `tqdm.notebook.tqdm` instead of `tqdm.tqdm_notebook`\n",
      "  \n"
     ]
    },
    {
     "data": {
      "application/vnd.jupyter.widget-view+json": {
       "model_id": "927dfa58f66443259df02b104f7b386b",
       "version_major": 2,
       "version_minor": 0
      },
      "text/plain": [
       "HBox(children=(FloatProgress(value=0.0, max=16.0), HTML(value='')))"
      ]
     },
     "metadata": {},
     "output_type": "display_data"
    },
    {
     "name": "stdout",
     "output_type": "stream",
     "text": [
      "\n"
     ]
    }
   ],
   "source": [
    "all_sub_urls = []\n",
    "for main_url in tqdm(all_urls):\n",
    "    all_sub_urls += get_gear_subpages(main_url)"
   ]
  },
  {
   "cell_type": "markdown",
   "metadata": {},
   "source": [
    "# Get comments from each url"
   ]
  },
  {
   "cell_type": "code",
   "execution_count": 149,
   "metadata": {},
   "outputs": [
    {
     "data": {
      "text/plain": [
       "'https://www.trailspace.com/gear/la-sportiva/trango-ice-cube-gtx/'"
      ]
     },
     "execution_count": 149,
     "metadata": {},
     "output_type": "execute_result"
    }
   ],
   "source": [
    "all_sub_urls[18]"
   ]
  },
  {
   "cell_type": "code",
   "execution_count": 171,
   "metadata": {},
   "outputs": [],
   "source": [
    "def get_gear_comments(gear_url):\n",
    "    # Get HTML info\n",
    "    uClient = uReq(gear_url) # request the URL\n",
    "    page_html = uClient.read() # Read the html\n",
    "    uClient.close() # close the connection\n",
    "    review_soup = soup(page_html, \"html.parser\")\n",
    "    \n",
    "    all_reviews = review_soup.find(\"div\", {\"id\":\"reviews\"})\n",
    "    \n",
    "    review_dict = dict()\n",
    "    \n",
    "    try:\n",
    "        for this_review in all_reviews.findAll(\"div\", {\"class\": \"reviewOuterContainer\"}):\n",
    "            # Get review rating\n",
    "            try:\n",
    "                rating = float(str(this_review.find_next('img').find_next(\"img\")).split(\"rated \")[1].split(\" of\")[0])\n",
    "            except:\n",
    "                rating = float(str(this_review.find(\"img\").find_next(\"img\").find_next(\"img\")).split(\"rated \")[1].split(\" of\")[0])\n",
    "            # Get review text\n",
    "            review_summary = this_review.find(\"div\",{\"class\":\"review summary\"}).findAll(\"p\")\n",
    "            review_text = \"\"\n",
    "            for blurb in review_summary:\n",
    "                review_text += \"   \" + blurb.text.replace(\"\\n\", \"   \").replace(\"\\r\", \"   \")\n",
    "\n",
    "            review_dict[review_text] = rating\n",
    "    except:\n",
    "        pass\n",
    "    \n",
    "    return review_dict\n",
    "        "
   ]
  },
  {
   "cell_type": "markdown",
   "metadata": {},
   "source": [
    "## Run the code"
   ]
  },
  {
   "cell_type": "code",
   "execution_count": 173,
   "metadata": {},
   "outputs": [
    {
     "name": "stderr",
     "output_type": "stream",
     "text": [
      "/Users/patriciadegner/opt/anaconda3/lib/python3.7/site-packages/ipykernel_launcher.py:8: TqdmDeprecationWarning: This function will be removed in tqdm==5.0.0\n",
      "Please use `tqdm.notebook.tqdm` instead of `tqdm.tqdm_notebook`\n",
      "  \n"
     ]
    },
    {
     "data": {
      "application/vnd.jupyter.widget-view+json": {
       "model_id": "1ad40c21ea774d06b3b9b27785d9b1f3",
       "version_major": 2,
       "version_minor": 0
      },
      "text/plain": [
       "HBox(children=(FloatProgress(value=0.0, max=377.0), HTML(value='')))"
      ]
     },
     "metadata": {},
     "output_type": "display_data"
    },
    {
     "name": "stdout",
     "output_type": "stream",
     "text": [
      "\n"
     ]
    },
    {
     "data": {
      "text/plain": [
       "184.5508599281311"
      ]
     },
     "execution_count": 173,
     "metadata": {},
     "output_type": "execute_result"
    }
   ],
   "source": [
    "t0 = time.time()\n",
    "\n",
    "filename = \"trailspace_gear_reviews.csv\"\n",
    "f = open(filename, \"w\")\n",
    "headers = \"brand, model, rating, rating_text\\n\"\n",
    "f.write(headers)\n",
    "   \n",
    "for url in tqdm(all_sub_urls):\n",
    "    brand = url.split(\"/\")[4]\n",
    "    model = url.split(\"/\")[5]\n",
    "    info = get_gear_comments(url)\n",
    "    for review in info.keys():\n",
    "        rating_text = review.replace(\",\", \"~\")\n",
    "        rating = info[review]\n",
    "\n",
    "        f.write(brand  +\",\"+ \n",
    "                model  +\",\"+ \n",
    "                str(rating) +\",\"+ \n",
    "                rating_text  + \"\\n\")\n",
    "        \n",
    "f.close()\n",
    "t1 = time.time()  \n",
    "t1-t0"
   ]
  }
 ],
 "metadata": {
  "kernelspec": {
   "display_name": "Python 3",
   "language": "python",
   "name": "python3"
  },
  "language_info": {
   "codemirror_mode": {
    "name": "ipython",
    "version": 3
   },
   "file_extension": ".py",
   "mimetype": "text/x-python",
   "name": "python",
   "nbconvert_exporter": "python",
   "pygments_lexer": "ipython3",
   "version": "3.7.6"
  }
 },
 "nbformat": 4,
 "nbformat_minor": 4
}
