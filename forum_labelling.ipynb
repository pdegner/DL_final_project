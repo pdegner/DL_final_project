{
 "cells": [
  {
   "cell_type": "markdown",
   "metadata": {},
   "source": [
    "# First, the review forum"
   ]
  },
  {
   "cell_type": "code",
   "execution_count": 1,
   "metadata": {},
   "outputs": [],
   "source": [
    "import pandas as pd"
   ]
  },
  {
   "cell_type": "code",
   "execution_count": 3,
   "metadata": {},
   "outputs": [
    {
     "data": {
      "text/html": [
       "<div>\n",
       "<style scoped>\n",
       "    .dataframe tbody tr th:only-of-type {\n",
       "        vertical-align: middle;\n",
       "    }\n",
       "\n",
       "    .dataframe tbody tr th {\n",
       "        vertical-align: top;\n",
       "    }\n",
       "\n",
       "    .dataframe thead th {\n",
       "        text-align: right;\n",
       "    }\n",
       "</style>\n",
       "<table border=\"1\" class=\"dataframe\">\n",
       "  <thead>\n",
       "    <tr style=\"text-align: right;\">\n",
       "      <th></th>\n",
       "      <th>topic</th>\n",
       "      <th>page_num</th>\n",
       "      <th>post_num</th>\n",
       "      <th>text</th>\n",
       "      <th>join_date</th>\n",
       "      <th>post_date</th>\n",
       "      <th>num_likes</th>\n",
       "    </tr>\n",
       "  </thead>\n",
       "  <tbody>\n",
       "    <tr>\n",
       "      <th>0</th>\n",
       "      <td>Plaquette/Guide Style Device</td>\n",
       "      <td>1</td>\n",
       "      <td>0</td>\n",
       "      <td>Hi all~ I am in the market for a new plaquett...</td>\n",
       "      <td>Sep 2017</td>\n",
       "      <td>Jun 19 2020</td>\n",
       "      <td>0</td>\n",
       "    </tr>\n",
       "    <tr>\n",
       "      <th>1</th>\n",
       "      <td>Plaquette/Guide Style Device</td>\n",
       "      <td>1</td>\n",
       "      <td>1</td>\n",
       "      <td>Easiest on the elbows would definitely be a G...</td>\n",
       "      <td>May 2006</td>\n",
       "      <td>Jun 19 2020</td>\n",
       "      <td>1</td>\n",
       "    </tr>\n",
       "    <tr>\n",
       "      <th>2</th>\n",
       "      <td>Plaquette/Guide Style Device</td>\n",
       "      <td>1</td>\n",
       "      <td>2</td>\n",
       "      <td>DMM Pivot</td>\n",
       "      <td>Mar 2019</td>\n",
       "      <td>Jun 19 2020</td>\n",
       "      <td>4</td>\n",
       "    </tr>\n",
       "    <tr>\n",
       "      <th>3</th>\n",
       "      <td>Plaquette/Guide Style Device</td>\n",
       "      <td>1</td>\n",
       "      <td>3</td>\n",
       "      <td>Both the Pivot and the ATC guide accept ropes...</td>\n",
       "      <td>Jun 2015</td>\n",
       "      <td>Jun 19 2020</td>\n",
       "      <td>0</td>\n",
       "    </tr>\n",
       "    <tr>\n",
       "      <th>4</th>\n",
       "      <td>Plaquette/Guide Style Device</td>\n",
       "      <td>1</td>\n",
       "      <td>4</td>\n",
       "      <td>Thanks Adam! As a clarification~ When climbin...</td>\n",
       "      <td>Sep 2017</td>\n",
       "      <td>Jun 19 2020</td>\n",
       "      <td>0</td>\n",
       "    </tr>\n",
       "  </tbody>\n",
       "</table>\n",
       "</div>"
      ],
      "text/plain": [
       "                          topic  page_num  post_num  \\\n",
       "0  Plaquette/Guide Style Device         1         0   \n",
       "1  Plaquette/Guide Style Device         1         1   \n",
       "2  Plaquette/Guide Style Device         1         2   \n",
       "3  Plaquette/Guide Style Device         1         3   \n",
       "4  Plaquette/Guide Style Device         1         4   \n",
       "\n",
       "                                                text join_date    post_date  \\\n",
       "0   Hi all~ I am in the market for a new plaquett...  Sep 2017  Jun 19 2020   \n",
       "1   Easiest on the elbows would definitely be a G...  May 2006  Jun 19 2020   \n",
       "2                                          DMM Pivot  Mar 2019  Jun 19 2020   \n",
       "3   Both the Pivot and the ATC guide accept ropes...  Jun 2015  Jun 19 2020   \n",
       "4   Thanks Adam! As a clarification~ When climbin...  Sep 2017  Jun 19 2020   \n",
       "\n",
       "   num_likes  \n",
       "0          0  \n",
       "1          1  \n",
       "2          4  \n",
       "3          0  \n",
       "4          0  "
      ]
     },
     "execution_count": 3,
     "metadata": {},
     "output_type": "execute_result"
    }
   ],
   "source": [
    "df = pd.read_csv(\"review_forum.csv\")\n",
    "df.head()"
   ]
  },
  {
   "cell_type": "code",
   "execution_count": 30,
   "metadata": {},
   "outputs": [
    {
     "data": {
      "text/plain": [
       "' If you liked the Gigajul~ except for the relatively high friction in guide mode~ you might also want to check out the Mammut Alpine Smart. \\xa0It is a bit bulky for my taste~ but guide mode is much lower friction. \\xa0'"
      ]
     },
     "execution_count": 30,
     "metadata": {},
     "output_type": "execute_result"
    }
   ],
   "source": [
    "df.text[10]"
   ]
  },
  {
   "cell_type": "code",
   "execution_count": 31,
   "metadata": {},
   "outputs": [],
   "source": [
    "big_text = df.text.str.cat(sep='. ').replace(\"\\xa0\", \" \")"
   ]
  },
  {
   "cell_type": "code",
   "execution_count": 32,
   "metadata": {},
   "outputs": [
    {
     "data": {
      "text/plain": [
       "46008"
      ]
     },
     "execution_count": 32,
     "metadata": {},
     "output_type": "execute_result"
    }
   ],
   "source": [
    "big_text_list = big_text.split('. ')\n",
    "len(big_text_list)"
   ]
  },
  {
   "cell_type": "code",
   "execution_count": 35,
   "metadata": {},
   "outputs": [],
   "source": [
    "write_df = pd.DataFrame(big_text_list, columns=[\"text\"])\n",
    "write_df.to_csv('review_forum_labels.csv', index=False)"
   ]
  },
  {
   "cell_type": "markdown",
   "metadata": {},
   "source": [
    "#### I labelled 1020 rows in Google sheets, then saved the csv to my computer"
   ]
  },
  {
   "cell_type": "code",
   "execution_count": 82,
   "metadata": {},
   "outputs": [
    {
     "data": {
      "text/html": [
       "<div>\n",
       "<style scoped>\n",
       "    .dataframe tbody tr th:only-of-type {\n",
       "        vertical-align: middle;\n",
       "    }\n",
       "\n",
       "    .dataframe tbody tr th {\n",
       "        vertical-align: top;\n",
       "    }\n",
       "\n",
       "    .dataframe thead th {\n",
       "        text-align: right;\n",
       "    }\n",
       "</style>\n",
       "<table border=\"1\" class=\"dataframe\">\n",
       "  <thead>\n",
       "    <tr style=\"text-align: right;\">\n",
       "      <th></th>\n",
       "      <th>0</th>\n",
       "      <th>1</th>\n",
       "    </tr>\n",
       "  </thead>\n",
       "  <tbody>\n",
       "    <tr>\n",
       "      <th>0</th>\n",
       "      <td>Hi all~ I am in the market for a new plaquette...</td>\n",
       "      <td>1</td>\n",
       "    </tr>\n",
       "    <tr>\n",
       "      <th>1</th>\n",
       "      <td>I currently have a Reverso 4~ but I am contemp...</td>\n",
       "      <td>1</td>\n",
       "    </tr>\n",
       "    <tr>\n",
       "      <th>2</th>\n",
       "      <td>I know they all operate essentially the same</td>\n",
       "      <td>1</td>\n",
       "    </tr>\n",
       "    <tr>\n",
       "      <th>3</th>\n",
       "      <td>When updateing my device~ I am looking for the...</td>\n",
       "      <td>2</td>\n",
       "    </tr>\n",
       "    <tr>\n",
       "      <th>4</th>\n",
       "      <td>I already have a GIGI that I carry on longer r...</td>\n",
       "      <td>1</td>\n",
       "    </tr>\n",
       "  </tbody>\n",
       "</table>\n",
       "</div>"
      ],
      "text/plain": [
       "                                                   0  1\n",
       "0  Hi all~ I am in the market for a new plaquette...  1\n",
       "1  I currently have a Reverso 4~ but I am contemp...  1\n",
       "2       I know they all operate essentially the same  1\n",
       "3  When updateing my device~ I am looking for the...  2\n",
       "4  I already have a GIGI that I carry on longer r...  1"
      ]
     },
     "execution_count": 82,
     "metadata": {},
     "output_type": "execute_result"
    }
   ],
   "source": [
    "# 0 is negative\n",
    "# 1 is neutral\n",
    "# 2 is positive\n",
    "\n",
    "rev_labeled_df = pd.read_csv('review_forum_labels.csv', header = None)\n",
    "rev_labeled_df.head()"
   ]
  },
  {
   "cell_type": "markdown",
   "metadata": {},
   "source": [
    "# Now, the discussion forum"
   ]
  },
  {
   "cell_type": "code",
   "execution_count": 41,
   "metadata": {},
   "outputs": [
    {
     "data": {
      "text/html": [
       "<div>\n",
       "<style scoped>\n",
       "    .dataframe tbody tr th:only-of-type {\n",
       "        vertical-align: middle;\n",
       "    }\n",
       "\n",
       "    .dataframe tbody tr th {\n",
       "        vertical-align: top;\n",
       "    }\n",
       "\n",
       "    .dataframe thead th {\n",
       "        text-align: right;\n",
       "    }\n",
       "</style>\n",
       "<table border=\"1\" class=\"dataframe\">\n",
       "  <thead>\n",
       "    <tr style=\"text-align: right;\">\n",
       "      <th></th>\n",
       "      <th>topic</th>\n",
       "      <th>page_num</th>\n",
       "      <th>post_num</th>\n",
       "      <th>text</th>\n",
       "      <th>join_date</th>\n",
       "      <th>post_date</th>\n",
       "      <th>num_likes</th>\n",
       "    </tr>\n",
       "  </thead>\n",
       "  <tbody>\n",
       "    <tr>\n",
       "      <th>0</th>\n",
       "      <td>Katabatic quilts and down shift</td>\n",
       "      <td>1</td>\n",
       "      <td>0</td>\n",
       "      <td>Have a hammock gear quilt right now.  I reall...</td>\n",
       "      <td>Jan 2012</td>\n",
       "      <td>Jul 5 2020</td>\n",
       "      <td>1</td>\n",
       "    </tr>\n",
       "    <tr>\n",
       "      <th>1</th>\n",
       "      <td>Katabatic quilts and down shift</td>\n",
       "      <td>1</td>\n",
       "      <td>1</td>\n",
       "      <td>Do you roll or stuff the quilt when not in us...</td>\n",
       "      <td>Mar 2020</td>\n",
       "      <td>Jul 5 2020</td>\n",
       "      <td>0</td>\n",
       "    </tr>\n",
       "    <tr>\n",
       "      <th>2</th>\n",
       "      <td>Katabatic quilts and down shift</td>\n",
       "      <td>1</td>\n",
       "      <td>2</td>\n",
       "      <td>I stuff it and every night the down ends up a...</td>\n",
       "      <td>Jan 2012</td>\n",
       "      <td>Jul 6 2020</td>\n",
       "      <td>0</td>\n",
       "    </tr>\n",
       "    <tr>\n",
       "      <th>3</th>\n",
       "      <td>Katabatic quilts and down shift</td>\n",
       "      <td>1</td>\n",
       "      <td>3</td>\n",
       "      <td>I've had one of the Katabatic 20 degree quilt...</td>\n",
       "      <td>Jun 2016</td>\n",
       "      <td>Jul 6 2020</td>\n",
       "      <td>0</td>\n",
       "    </tr>\n",
       "    <tr>\n",
       "      <th>4</th>\n",
       "      <td>Adidas owning 5.10</td>\n",
       "      <td>1</td>\n",
       "      <td>0</td>\n",
       "      <td>I know this is kind of old news~ but what is ...</td>\n",
       "      <td>Jun 2017</td>\n",
       "      <td>Nov 21 2019</td>\n",
       "      <td>0</td>\n",
       "    </tr>\n",
       "  </tbody>\n",
       "</table>\n",
       "</div>"
      ],
      "text/plain": [
       "                             topic  page_num  post_num  \\\n",
       "0  Katabatic quilts and down shift         1         0   \n",
       "1  Katabatic quilts and down shift         1         1   \n",
       "2  Katabatic quilts and down shift         1         2   \n",
       "3  Katabatic quilts and down shift         1         3   \n",
       "4               Adidas owning 5.10         1         0   \n",
       "\n",
       "                                                text join_date    post_date  \\\n",
       "0   Have a hammock gear quilt right now.  I reall...  Jan 2012   Jul 5 2020   \n",
       "1   Do you roll or stuff the quilt when not in us...  Mar 2020   Jul 5 2020   \n",
       "2   I stuff it and every night the down ends up a...  Jan 2012   Jul 6 2020   \n",
       "3   I've had one of the Katabatic 20 degree quilt...  Jun 2016   Jul 6 2020   \n",
       "4   I know this is kind of old news~ but what is ...  Jun 2017  Nov 21 2019   \n",
       "\n",
       "   num_likes  \n",
       "0          1  \n",
       "1          0  \n",
       "2          0  \n",
       "3          0  \n",
       "4          0  "
      ]
     },
     "execution_count": 41,
     "metadata": {},
     "output_type": "execute_result"
    }
   ],
   "source": [
    "df = pd.read_csv(\"discussion_forum.csv\")\n",
    "df.head()"
   ]
  },
  {
   "cell_type": "code",
   "execution_count": 42,
   "metadata": {},
   "outputs": [
    {
     "data": {
      "text/plain": [
       "572786"
      ]
     },
     "execution_count": 42,
     "metadata": {},
     "output_type": "execute_result"
    }
   ],
   "source": [
    "big_text = df.text.str.cat(sep='. ').replace(\"\\xa0\", \" \")\n",
    "big_text_list = big_text.split('. ')\n",
    "len(big_text_list)"
   ]
  },
  {
   "cell_type": "code",
   "execution_count": 45,
   "metadata": {},
   "outputs": [],
   "source": [
    "# Remove duplicates but keep order\n",
    "def dup_rem(seq):\n",
    "    seen = set()\n",
    "    seen_add = seen.add\n",
    "    return [x for x in seq if not (x in seen or seen_add(x))]\n",
    "\n",
    "big_text_list = dup_rem(big_text_list)"
   ]
  },
  {
   "cell_type": "code",
   "execution_count": 46,
   "metadata": {},
   "outputs": [],
   "source": [
    "# # this one is too big to open up in Google Sheets\n",
    "# write_df = pd.DataFrame(big_text_list, columns=[\"text\"])\n",
    "# write_df.to_csv('discussion_forum_labels.csv', index=False)"
   ]
  },
  {
   "cell_type": "markdown",
   "metadata": {},
   "source": [
    "#### I labelled 3030 rows in Google sheets, then saved the csv to my computer"
   ]
  },
  {
   "cell_type": "code",
   "execution_count": 49,
   "metadata": {},
   "outputs": [],
   "source": [
    "truncated_text_list = big_text_list[:5000]\n",
    "write_df = pd.DataFrame(truncated_text_list, columns=[\"text\"])\n",
    "write_df.to_csv('discussion_forum_labels_small.csv', index=False)"
   ]
  },
  {
   "cell_type": "code",
   "execution_count": 54,
   "metadata": {},
   "outputs": [
    {
     "data": {
      "text/html": [
       "<div>\n",
       "<style scoped>\n",
       "    .dataframe tbody tr th:only-of-type {\n",
       "        vertical-align: middle;\n",
       "    }\n",
       "\n",
       "    .dataframe tbody tr th {\n",
       "        vertical-align: top;\n",
       "    }\n",
       "\n",
       "    .dataframe thead th {\n",
       "        text-align: right;\n",
       "    }\n",
       "</style>\n",
       "<table border=\"1\" class=\"dataframe\">\n",
       "  <thead>\n",
       "    <tr style=\"text-align: right;\">\n",
       "      <th></th>\n",
       "      <th>text</th>\n",
       "      <th>1</th>\n",
       "    </tr>\n",
       "  </thead>\n",
       "  <tbody>\n",
       "    <tr>\n",
       "      <th>0</th>\n",
       "      <td>Have a hammock gear quilt right now</td>\n",
       "      <td>1</td>\n",
       "    </tr>\n",
       "    <tr>\n",
       "      <th>1</th>\n",
       "      <td>I really like it but am annoyed with the conti...</td>\n",
       "      <td>0</td>\n",
       "    </tr>\n",
       "    <tr>\n",
       "      <th>2</th>\n",
       "      <td>The down always seems to end up in the end of ...</td>\n",
       "      <td>0</td>\n",
       "    </tr>\n",
       "    <tr>\n",
       "      <th>3</th>\n",
       "      <td>I like the pad attachment system that Katabati...</td>\n",
       "      <td>2</td>\n",
       "    </tr>\n",
       "    <tr>\n",
       "      <th>4</th>\n",
       "      <td>Do you roll or stuff the quilt when not in use...</td>\n",
       "      <td>1</td>\n",
       "    </tr>\n",
       "  </tbody>\n",
       "</table>\n",
       "</div>"
      ],
      "text/plain": [
       "                                                text  1\n",
       "0                Have a hammock gear quilt right now  1\n",
       "1  I really like it but am annoyed with the conti...  0\n",
       "2  The down always seems to end up in the end of ...  0\n",
       "3  I like the pad attachment system that Katabati...  2\n",
       "4  Do you roll or stuff the quilt when not in use...  1"
      ]
     },
     "execution_count": 54,
     "metadata": {},
     "output_type": "execute_result"
    }
   ],
   "source": [
    "disc_labeled_df = pd.read_csv('discussion_forum_labels_small.csv')\n",
    "disc_labeled_df.head()"
   ]
  },
  {
   "cell_type": "markdown",
   "metadata": {},
   "source": [
    "# Let's look at what I have"
   ]
  },
  {
   "cell_type": "code",
   "execution_count": 66,
   "metadata": {},
   "outputs": [],
   "source": [
    "import numpy as np"
   ]
  },
  {
   "cell_type": "code",
   "execution_count": 59,
   "metadata": {},
   "outputs": [
    {
     "data": {
      "text/plain": [
       "718"
      ]
     },
     "execution_count": 59,
     "metadata": {},
     "output_type": "execute_result"
    }
   ],
   "source": [
    "sum(rev_labeled_df[1][rev_labeled_df[1] != 1]) #718 non-neutral examples"
   ]
  },
  {
   "cell_type": "code",
   "execution_count": 64,
   "metadata": {},
   "outputs": [
    {
     "data": {
      "text/plain": [
       "516"
      ]
     },
     "execution_count": 64,
     "metadata": {},
     "output_type": "execute_result"
    }
   ],
   "source": [
    "sum(disc_labeled_df[\"1\"][disc_labeled_df[\"1\"] != 1]) #516 non-neutral examples"
   ]
  },
  {
   "cell_type": "code",
   "execution_count": 70,
   "metadata": {},
   "outputs": [
    {
     "data": {
      "text/plain": [
       "1017"
      ]
     },
     "execution_count": 70,
     "metadata": {},
     "output_type": "execute_result"
    }
   ],
   "source": [
    "# where is the last row that is a 0 or 2?\n",
    "max(np.where(disc_labeled_df[\"1\"] != 1)[0]) # 3030 rows in the disc_labeled_df\n",
    "max(np.where(rev_labeled_df[1] != 1)[0]) # 1017 rows in the rev_labeled_df"
   ]
  },
  {
   "cell_type": "code",
   "execution_count": 78,
   "metadata": {},
   "outputs": [],
   "source": [
    "disc_labeled_df = disc_labeled_df.rename(columns = {'text':\"text\", '1':\"sentiment\"})\n",
    "rev_labeled_df = rev_labeled_df.rename(columns = {0:\"text\", 1:\"sentiment\"})"
   ]
  },
  {
   "cell_type": "code",
   "execution_count": 79,
   "metadata": {},
   "outputs": [
    {
     "data": {
      "text/html": [
       "<div>\n",
       "<style scoped>\n",
       "    .dataframe tbody tr th:only-of-type {\n",
       "        vertical-align: middle;\n",
       "    }\n",
       "\n",
       "    .dataframe tbody tr th {\n",
       "        vertical-align: top;\n",
       "    }\n",
       "\n",
       "    .dataframe thead th {\n",
       "        text-align: right;\n",
       "    }\n",
       "</style>\n",
       "<table border=\"1\" class=\"dataframe\">\n",
       "  <thead>\n",
       "    <tr style=\"text-align: right;\">\n",
       "      <th></th>\n",
       "      <th>text</th>\n",
       "      <th>sentiment</th>\n",
       "    </tr>\n",
       "  </thead>\n",
       "  <tbody>\n",
       "    <tr>\n",
       "      <th>0</th>\n",
       "      <td>Have a hammock gear quilt right now</td>\n",
       "      <td>1</td>\n",
       "    </tr>\n",
       "    <tr>\n",
       "      <th>1</th>\n",
       "      <td>I really like it but am annoyed with the conti...</td>\n",
       "      <td>0</td>\n",
       "    </tr>\n",
       "    <tr>\n",
       "      <th>2</th>\n",
       "      <td>The down always seems to end up in the end of ...</td>\n",
       "      <td>0</td>\n",
       "    </tr>\n",
       "    <tr>\n",
       "      <th>3</th>\n",
       "      <td>I like the pad attachment system that Katabati...</td>\n",
       "      <td>2</td>\n",
       "    </tr>\n",
       "    <tr>\n",
       "      <th>4</th>\n",
       "      <td>Do you roll or stuff the quilt when not in use...</td>\n",
       "      <td>1</td>\n",
       "    </tr>\n",
       "  </tbody>\n",
       "</table>\n",
       "</div>"
      ],
      "text/plain": [
       "                                                text  sentiment\n",
       "0                Have a hammock gear quilt right now          1\n",
       "1  I really like it but am annoyed with the conti...          0\n",
       "2  The down always seems to end up in the end of ...          0\n",
       "3  I like the pad attachment system that Katabati...          2\n",
       "4  Do you roll or stuff the quilt when not in use...          1"
      ]
     },
     "execution_count": 79,
     "metadata": {},
     "output_type": "execute_result"
    }
   ],
   "source": [
    "# extract only labeled rows and combine into one df\n",
    "disc_test_df = disc_labeled_df[:3031]\n",
    "rev_test_df = rev_labeled_df[:1018]\n",
    "test_df = disc_test_df.append(rev_test_df, ignore_index=True)\n",
    "test_df.head()"
   ]
  },
  {
   "cell_type": "code",
   "execution_count": 80,
   "metadata": {},
   "outputs": [
    {
     "data": {
      "text/plain": [
       "1.0602617930353173"
      ]
     },
     "execution_count": 80,
     "metadata": {},
     "output_type": "execute_result"
    }
   ],
   "source": [
    "test_df.sentiment.mean()"
   ]
  },
  {
   "cell_type": "code",
   "execution_count": 81,
   "metadata": {},
   "outputs": [],
   "source": [
    "test_data = test_df.text\n",
    "test_labels = test_df.sentiment"
   ]
  },
  {
   "cell_type": "code",
   "execution_count": 83,
   "metadata": {},
   "outputs": [],
   "source": [
    "test_df.to_csv('labeled_forum_test.csv', index=False)"
   ]
  },
  {
   "cell_type": "code",
   "execution_count": null,
   "metadata": {},
   "outputs": [],
   "source": []
  }
 ],
 "metadata": {
  "kernelspec": {
   "display_name": "Python 3",
   "language": "python",
   "name": "python3"
  },
  "language_info": {
   "codemirror_mode": {
    "name": "ipython",
    "version": 3
   },
   "file_extension": ".py",
   "mimetype": "text/x-python",
   "name": "python",
   "nbconvert_exporter": "python",
   "pygments_lexer": "ipython3",
   "version": "3.7.6"
  }
 },
 "nbformat": 4,
 "nbformat_minor": 4
}
